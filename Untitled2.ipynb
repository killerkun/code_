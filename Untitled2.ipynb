{
  "nbformat": 4,
  "nbformat_minor": 0,
  "metadata": {
    "colab": {
      "name": "Untitled2.ipynb",
      "provenance": []
    },
    "kernelspec": {
      "name": "python3",
      "display_name": "Python 3"
    }
  },
  "cells": [
    {
      "cell_type": "code",
      "metadata": {
        "id": "BuWndj-j0UoV",
        "colab_type": "code",
        "colab": {
          "base_uri": "https://localhost:8080/",
          "height": 436
        },
        "outputId": "9341a872-c04e-4d13-874e-b8bb1a6a4c61"
      },
      "source": [
        "!pip install geocoder\n",
        "!pip install folium\n",
        "import requests\n",
        "import numpy as np\n",
        "import geocoder\n",
        "import folium\n",
        "import requests \n",
        "import matplotlib.cm as cm\n",
        "import matplotlib.colors as colors\n",
        "import json\n",
        "import xml\n",
        "import matplotlib.pyplot as plt\n",
        "%matplotlib inline\n",
        "import warnings\n",
        "warnings.filterwarnings(\"ignore\")\n",
        "import pandas as pd\n",
        "\n",
        "from pandas.io.json import json_normalize \n",
        "from sklearn.cluster import KMeans\n",
        "from geopy.geocoders import Nominatim \n",
        "from bs4 import BeautifulSoup\n",
        "\n",
        "pd.set_option('display.max_columns', None)\n",
        "pd.set_option('display.max_rows', None)\n",
        "\n",
        "print(\"All Required Libraries Imported!\")\n",
        "\n",
        "url = \"https://en.wikipedia.org/wiki/List_of_postal_codes_of_Canada:_M\"\n",
        "extracting_data = requests.get(url).text\n",
        "wiki_data = BeautifulSoup(extracting_data, 'lxml')"
      ],
      "execution_count": 3,
      "outputs": [
        {
          "output_type": "stream",
          "text": [
            "Requirement already satisfied: geocoder in /usr/local/lib/python3.6/dist-packages (1.38.1)\n",
            "Requirement already satisfied: ratelim in /usr/local/lib/python3.6/dist-packages (from geocoder) (0.1.6)\n",
            "Requirement already satisfied: click in /usr/local/lib/python3.6/dist-packages (from geocoder) (7.1.2)\n",
            "Requirement already satisfied: six in /usr/local/lib/python3.6/dist-packages (from geocoder) (1.12.0)\n",
            "Requirement already satisfied: future in /usr/local/lib/python3.6/dist-packages (from geocoder) (0.16.0)\n",
            "Requirement already satisfied: requests in /usr/local/lib/python3.6/dist-packages (from geocoder) (2.23.0)\n",
            "Requirement already satisfied: decorator in /usr/local/lib/python3.6/dist-packages (from ratelim->geocoder) (4.4.2)\n",
            "Requirement already satisfied: certifi>=2017.4.17 in /usr/local/lib/python3.6/dist-packages (from requests->geocoder) (2020.6.20)\n",
            "Requirement already satisfied: idna<3,>=2.5 in /usr/local/lib/python3.6/dist-packages (from requests->geocoder) (2.10)\n",
            "Requirement already satisfied: chardet<4,>=3.0.2 in /usr/local/lib/python3.6/dist-packages (from requests->geocoder) (3.0.4)\n",
            "Requirement already satisfied: urllib3!=1.25.0,!=1.25.1,<1.26,>=1.21.1 in /usr/local/lib/python3.6/dist-packages (from requests->geocoder) (1.24.3)\n",
            "Requirement already satisfied: folium in /usr/local/lib/python3.6/dist-packages (0.8.3)\n",
            "Requirement already satisfied: six in /usr/local/lib/python3.6/dist-packages (from folium) (1.12.0)\n",
            "Requirement already satisfied: branca>=0.3.0 in /usr/local/lib/python3.6/dist-packages (from folium) (0.4.1)\n",
            "Requirement already satisfied: numpy in /usr/local/lib/python3.6/dist-packages (from folium) (1.18.5)\n",
            "Requirement already satisfied: requests in /usr/local/lib/python3.6/dist-packages (from folium) (2.23.0)\n",
            "Requirement already satisfied: jinja2 in /usr/local/lib/python3.6/dist-packages (from folium) (2.11.2)\n",
            "Requirement already satisfied: certifi>=2017.4.17 in /usr/local/lib/python3.6/dist-packages (from requests->folium) (2020.6.20)\n",
            "Requirement already satisfied: urllib3!=1.25.0,!=1.25.1,<1.26,>=1.21.1 in /usr/local/lib/python3.6/dist-packages (from requests->folium) (1.24.3)\n",
            "Requirement already satisfied: chardet<4,>=3.0.2 in /usr/local/lib/python3.6/dist-packages (from requests->folium) (3.0.4)\n",
            "Requirement already satisfied: idna<3,>=2.5 in /usr/local/lib/python3.6/dist-packages (from requests->folium) (2.10)\n",
            "Requirement already satisfied: MarkupSafe>=0.23 in /usr/local/lib/python3.6/dist-packages (from jinja2->folium) (1.1.1)\n",
            "All Required Libraries Imported!\n"
          ],
          "name": "stdout"
        }
      ]
    },
    {
      "cell_type": "code",
      "metadata": {
        "id": "9rIYOIUQ007_",
        "colab_type": "code",
        "colab": {}
      },
      "source": [
        "column_names = ['Postalcode','Borough','Neighborhood']\n",
        "toronto = pd.DataFrame(columns = column_names)\n",
        "\n",
        "content = wiki_data.find('div', class_='mw-parser-output')\n",
        "table = content.table.tbody\n",
        "postcode = 0\n",
        "borough = 0\n",
        "neighborhood = 0\n",
        "\n",
        "for tr in table.find_all('tr'):\n",
        "    i = 0\n",
        "    for td in tr.find_all('td'):\n",
        "        if i == 0:\n",
        "            postcode = td.text\n",
        "            i = i + 1\n",
        "        elif i == 1:\n",
        "            borough = td.text\n",
        "            i = i + 1\n",
        "        elif i == 2: \n",
        "            neighborhood = td.text.strip('\\n').replace(']','')\n",
        "    toronto = toronto.append({'Postalcode': postcode,'Borough': borough,'Neighborhood': neighborhood},ignore_index=True)"
      ],
      "execution_count": 4,
      "outputs": []
    },
    {
      "cell_type": "code",
      "metadata": {
        "id": "ERw5icjk048b",
        "colab_type": "code",
        "colab": {
          "base_uri": "https://localhost:8080/",
          "height": 35
        },
        "outputId": "cb90f137-3e7d-4050-eb1e-75188a6f83f9"
      },
      "source": [
        "# clean dataframe \n",
        "toronto = toronto[toronto.Borough!='Not assigned']\n",
        "toronto = toronto[toronto.Borough!= 0]\n",
        "toronto.reset_index(drop = True, inplace = True)\n",
        "i = 0\n",
        "for i in range(0,toronto.shape[0]):\n",
        "    if toronto.iloc[i][2] == 'Not assigned':\n",
        "        toronto.iloc[i][2] = toronto.iloc[i][1]\n",
        "        i = i+1\n",
        "df = toronto.groupby(['Postalcode','Borough'])['Neighborhood'].apply(', '.join).reset_index()\n",
        "df.head()\n",
        "\n",
        "df = df.dropna()\n",
        "empty = 'Not assigned'\n",
        "df = df[(df.Postalcode != empty ) & (df.Borough != empty) & (df.Neighborhood != empty)]\n",
        "def neighborhood_list(grouped):    \n",
        "    return ', '.join(sorted(grouped['Neighborhood'].tolist()))\n",
        "                    \n",
        "grp = df.groupby(['Postalcode', 'Borough'])\n",
        "df_2 = grp.apply(neighborhood_list).reset_index(name='Neighborhood')\n",
        "\n",
        "def get_latilong(postal_code):\n",
        "    lati_long_coords = None\n",
        "    while(lati_long_coords is None):\n",
        "        g = geocoder.arcgis('{}, Toronto, Ontario'.format(postal_code))\n",
        "        lati_long_coords = g.latlng\n",
        "    return lati_long_coords\n",
        "    \n",
        "get_latilong('M4G')        "
      ],
      "execution_count": 5,
      "outputs": [
        {
          "output_type": "execute_result",
          "data": {
            "text/plain": [
              "[43.70909000000006, -79.36409999999995]"
            ]
          },
          "metadata": {
            "tags": []
          },
          "execution_count": 5
        }
      ]
    },
    {
      "cell_type": "code",
      "metadata": {
        "id": "nyCc35R-1BmJ",
        "colab_type": "code",
        "colab": {
          "base_uri": "https://localhost:8080/",
          "height": 1000
        },
        "outputId": "0a8699cf-c4e9-48ea-ce4e-40260daf0709"
      },
      "source": [
        "\n",
        "# Retrieving Postal Code Co-ordinates\n",
        "postal_codes = df_2['Postalcode']    \n",
        "coords = [ get_latilong(postal_code) for postal_code in postal_codes.tolist() ]\n",
        "\n",
        "# Adding Columns Latitude & Longitude\n",
        "df_coords = pd.DataFrame(coords, columns=['Latitude', 'Longitude'])\n",
        "df_2['Latitude'] = df_coords['Latitude']\n",
        "df_2['Longitude'] = df_coords['Longitude']\n",
        "\n",
        "address = 'Scarborough,Toronto'\n",
        "\n",
        "geolocator = Nominatim()\n",
        "location = geolocator.geocode(address)\n",
        "latitude_x = location.latitude\n",
        "longitude_y = location.longitude\n",
        "print('The Geograpical Co-ordinate of Seattle,Washington are {}, {}.'.format(latitude_x, longitude_y))"
      ],
      "execution_count": null,
      "outputs": [
        {
          "output_type": "stream",
          "text": [
            "Status code Unknown from https://geocode.arcgis.com/arcgis/rest/services/World/GeocodeServer/find: ERROR - HTTPSConnectionPool(host='geocode.arcgis.com', port=443): Read timed out. (read timeout=5.0)\n",
            "Status code Unknown from https://geocode.arcgis.com/arcgis/rest/services/World/GeocodeServer/find: ERROR - HTTPSConnectionPool(host='geocode.arcgis.com', port=443): Read timed out. (read timeout=5.0)\n",
            "Status code Unknown from https://geocode.arcgis.com/arcgis/rest/services/World/GeocodeServer/find: ERROR - HTTPSConnectionPool(host='geocode.arcgis.com', port=443): Read timed out. (read timeout=5.0)\n",
            "Status code Unknown from https://geocode.arcgis.com/arcgis/rest/services/World/GeocodeServer/find: ERROR - HTTPSConnectionPool(host='geocode.arcgis.com', port=443): Read timed out. (read timeout=5.0)\n",
            "Status code Unknown from https://geocode.arcgis.com/arcgis/rest/services/World/GeocodeServer/find: ERROR - HTTPSConnectionPool(host='geocode.arcgis.com', port=443): Read timed out. (read timeout=5.0)\n",
            "Status code Unknown from https://geocode.arcgis.com/arcgis/rest/services/World/GeocodeServer/find: ERROR - HTTPSConnectionPool(host='geocode.arcgis.com', port=443): Read timed out. (read timeout=5.0)\n",
            "Status code Unknown from https://geocode.arcgis.com/arcgis/rest/services/World/GeocodeServer/find: ERROR - HTTPSConnectionPool(host='geocode.arcgis.com', port=443): Read timed out. (read timeout=5.0)\n",
            "Status code Unknown from https://geocode.arcgis.com/arcgis/rest/services/World/GeocodeServer/find: ERROR - HTTPSConnectionPool(host='geocode.arcgis.com', port=443): Read timed out. (read timeout=5.0)\n",
            "Status code Unknown from https://geocode.arcgis.com/arcgis/rest/services/World/GeocodeServer/find: ERROR - HTTPSConnectionPool(host='geocode.arcgis.com', port=443): Read timed out. (read timeout=5.0)\n",
            "Status code Unknown from https://geocode.arcgis.com/arcgis/rest/services/World/GeocodeServer/find: ERROR - HTTPSConnectionPool(host='geocode.arcgis.com', port=443): Read timed out. (read timeout=5.0)\n",
            "Status code Unknown from https://geocode.arcgis.com/arcgis/rest/services/World/GeocodeServer/find: ERROR - HTTPSConnectionPool(host='geocode.arcgis.com', port=443): Read timed out. (read timeout=5.0)\n",
            "Status code Unknown from https://geocode.arcgis.com/arcgis/rest/services/World/GeocodeServer/find: ERROR - HTTPSConnectionPool(host='geocode.arcgis.com', port=443): Read timed out. (read timeout=5.0)\n",
            "Status code Unknown from https://geocode.arcgis.com/arcgis/rest/services/World/GeocodeServer/find: ERROR - HTTPSConnectionPool(host='geocode.arcgis.com', port=443): Read timed out. (read timeout=5.0)\n",
            "Status code Unknown from https://geocode.arcgis.com/arcgis/rest/services/World/GeocodeServer/find: ERROR - HTTPSConnectionPool(host='geocode.arcgis.com', port=443): Read timed out. (read timeout=5.0)\n",
            "Status code Unknown from https://geocode.arcgis.com/arcgis/rest/services/World/GeocodeServer/find: ERROR - HTTPSConnectionPool(host='geocode.arcgis.com', port=443): Read timed out. (read timeout=5.0)\n",
            "Status code Unknown from https://geocode.arcgis.com/arcgis/rest/services/World/GeocodeServer/find: ERROR - HTTPSConnectionPool(host='geocode.arcgis.com', port=443): Read timed out. (read timeout=5.0)\n",
            "Status code Unknown from https://geocode.arcgis.com/arcgis/rest/services/World/GeocodeServer/find: ERROR - HTTPSConnectionPool(host='geocode.arcgis.com', port=443): Read timed out. (read timeout=5.0)\n",
            "Status code Unknown from https://geocode.arcgis.com/arcgis/rest/services/World/GeocodeServer/find: ERROR - HTTPSConnectionPool(host='geocode.arcgis.com', port=443): Read timed out. (read timeout=5.0)\n",
            "Status code Unknown from https://geocode.arcgis.com/arcgis/rest/services/World/GeocodeServer/find: ERROR - HTTPSConnectionPool(host='geocode.arcgis.com', port=443): Read timed out. (read timeout=5.0)\n",
            "Status code 503 from https://geocode.arcgis.com/arcgis/rest/services/World/GeocodeServer/find: ERROR - 503 Server Error: Service Temporarily Unavailable for url: https://geocode.arcgis.com/arcgis/rest/services/World/GeocodeServer/find?f=json&text=M1C%0A%2C+Toronto%2C+Ontario&maxLocations=1\n",
            "Status code Unknown from https://geocode.arcgis.com/arcgis/rest/services/World/GeocodeServer/find: ERROR - HTTPSConnectionPool(host='geocode.arcgis.com', port=443): Read timed out. (read timeout=5.0)\n",
            "Status code Unknown from https://geocode.arcgis.com/arcgis/rest/services/World/GeocodeServer/find: ERROR - HTTPSConnectionPool(host='geocode.arcgis.com', port=443): Read timed out. (read timeout=5.0)\n",
            "Status code Unknown from https://geocode.arcgis.com/arcgis/rest/services/World/GeocodeServer/find: ERROR - HTTPSConnectionPool(host='geocode.arcgis.com', port=443): Read timed out. (read timeout=5.0)\n",
            "Status code Unknown from https://geocode.arcgis.com/arcgis/rest/services/World/GeocodeServer/find: ERROR - HTTPSConnectionPool(host='geocode.arcgis.com', port=443): Read timed out. (read timeout=5.0)\n",
            "Status code Unknown from https://geocode.arcgis.com/arcgis/rest/services/World/GeocodeServer/find: ERROR - HTTPSConnectionPool(host='geocode.arcgis.com', port=443): Read timed out. (read timeout=5.0)\n",
            "Status code Unknown from https://geocode.arcgis.com/arcgis/rest/services/World/GeocodeServer/find: ERROR - HTTPSConnectionPool(host='geocode.arcgis.com', port=443): Read timed out. (read timeout=5.0)\n",
            "Status code 503 from https://geocode.arcgis.com/arcgis/rest/services/World/GeocodeServer/find: ERROR - 503 Server Error: Service Temporarily Unavailable for url: https://geocode.arcgis.com/arcgis/rest/services/World/GeocodeServer/find?f=json&text=M1C%0A%2C+Toronto%2C+Ontario&maxLocations=1\n",
            "Status code Unknown from https://geocode.arcgis.com/arcgis/rest/services/World/GeocodeServer/find: ERROR - HTTPSConnectionPool(host='geocode.arcgis.com', port=443): Read timed out. (read timeout=5.0)\n",
            "Status code Unknown from https://geocode.arcgis.com/arcgis/rest/services/World/GeocodeServer/find: ERROR - HTTPSConnectionPool(host='geocode.arcgis.com', port=443): Read timed out. (read timeout=5.0)\n",
            "Status code Unknown from https://geocode.arcgis.com/arcgis/rest/services/World/GeocodeServer/find: ERROR - HTTPSConnectionPool(host='geocode.arcgis.com', port=443): Read timed out. (read timeout=5.0)\n",
            "Status code Unknown from https://geocode.arcgis.com/arcgis/rest/services/World/GeocodeServer/find: ERROR - HTTPSConnectionPool(host='geocode.arcgis.com', port=443): Read timed out. (read timeout=5.0)\n",
            "Status code Unknown from https://geocode.arcgis.com/arcgis/rest/services/World/GeocodeServer/find: ERROR - HTTPSConnectionPool(host='geocode.arcgis.com', port=443): Read timed out. (read timeout=5.0)\n",
            "Status code Unknown from https://geocode.arcgis.com/arcgis/rest/services/World/GeocodeServer/find: ERROR - HTTPSConnectionPool(host='geocode.arcgis.com', port=443): Read timed out. (read timeout=5.0)\n",
            "Status code 503 from https://geocode.arcgis.com/arcgis/rest/services/World/GeocodeServer/find: ERROR - 503 Server Error: Service Temporarily Unavailable for url: https://geocode.arcgis.com/arcgis/rest/services/World/GeocodeServer/find?f=json&text=M1C%0A%2C+Toronto%2C+Ontario&maxLocations=1\n",
            "Status code Unknown from https://geocode.arcgis.com/arcgis/rest/services/World/GeocodeServer/find: ERROR - HTTPSConnectionPool(host='geocode.arcgis.com', port=443): Read timed out. (read timeout=5.0)\n",
            "Status code Unknown from https://geocode.arcgis.com/arcgis/rest/services/World/GeocodeServer/find: ERROR - HTTPSConnectionPool(host='geocode.arcgis.com', port=443): Read timed out. (read timeout=5.0)\n",
            "Status code Unknown from https://geocode.arcgis.com/arcgis/rest/services/World/GeocodeServer/find: ERROR - HTTPSConnectionPool(host='geocode.arcgis.com', port=443): Read timed out. (read timeout=5.0)\n",
            "Status code Unknown from https://geocode.arcgis.com/arcgis/rest/services/World/GeocodeServer/find: ERROR - HTTPSConnectionPool(host='geocode.arcgis.com', port=443): Read timed out. (read timeout=5.0)\n",
            "Status code 503 from https://geocode.arcgis.com/arcgis/rest/services/World/GeocodeServer/find: ERROR - 503 Server Error: Service Temporarily Unavailable for url: https://geocode.arcgis.com/arcgis/rest/services/World/GeocodeServer/find?f=json&text=M1C%0A%2C+Toronto%2C+Ontario&maxLocations=1\n",
            "Status code Unknown from https://geocode.arcgis.com/arcgis/rest/services/World/GeocodeServer/find: ERROR - HTTPSConnectionPool(host='geocode.arcgis.com', port=443): Read timed out. (read timeout=5.0)\n",
            "Status code 503 from https://geocode.arcgis.com/arcgis/rest/services/World/GeocodeServer/find: ERROR - 503 Server Error: Service Temporarily Unavailable for url: https://geocode.arcgis.com/arcgis/rest/services/World/GeocodeServer/find?f=json&text=M1C%0A%2C+Toronto%2C+Ontario&maxLocations=1\n",
            "Status code Unknown from https://geocode.arcgis.com/arcgis/rest/services/World/GeocodeServer/find: ERROR - HTTPSConnectionPool(host='geocode.arcgis.com', port=443): Read timed out. (read timeout=5.0)\n",
            "Status code 503 from https://geocode.arcgis.com/arcgis/rest/services/World/GeocodeServer/find: ERROR - 503 Server Error: Service Temporarily Unavailable for url: https://geocode.arcgis.com/arcgis/rest/services/World/GeocodeServer/find?f=json&text=M1C%0A%2C+Toronto%2C+Ontario&maxLocations=1\n",
            "Status code 503 from https://geocode.arcgis.com/arcgis/rest/services/World/GeocodeServer/find: ERROR - 503 Server Error: Service Temporarily Unavailable for url: https://geocode.arcgis.com/arcgis/rest/services/World/GeocodeServer/find?f=json&text=M1C%0A%2C+Toronto%2C+Ontario&maxLocations=1\n",
            "Status code 503 from https://geocode.arcgis.com/arcgis/rest/services/World/GeocodeServer/find: ERROR - 503 Server Error: Service Temporarily Unavailable for url: https://geocode.arcgis.com/arcgis/rest/services/World/GeocodeServer/find?f=json&text=M1C%0A%2C+Toronto%2C+Ontario&maxLocations=1\n",
            "Status code Unknown from https://geocode.arcgis.com/arcgis/rest/services/World/GeocodeServer/find: ERROR - HTTPSConnectionPool(host='geocode.arcgis.com', port=443): Read timed out. (read timeout=5.0)\n",
            "Status code Unknown from https://geocode.arcgis.com/arcgis/rest/services/World/GeocodeServer/find: ERROR - HTTPSConnectionPool(host='geocode.arcgis.com', port=443): Read timed out. (read timeout=5.0)\n",
            "Status code 503 from https://geocode.arcgis.com/arcgis/rest/services/World/GeocodeServer/find: ERROR - 503 Server Error: Service Temporarily Unavailable for url: https://geocode.arcgis.com/arcgis/rest/services/World/GeocodeServer/find?f=json&text=M1C%0A%2C+Toronto%2C+Ontario&maxLocations=1\n",
            "Status code 503 from https://geocode.arcgis.com/arcgis/rest/services/World/GeocodeServer/find: ERROR - 503 Server Error: Service Temporarily Unavailable for url: https://geocode.arcgis.com/arcgis/rest/services/World/GeocodeServer/find?f=json&text=M1C%0A%2C+Toronto%2C+Ontario&maxLocations=1\n",
            "Status code 503 from https://geocode.arcgis.com/arcgis/rest/services/World/GeocodeServer/find: ERROR - 503 Server Error: Service Temporarily Unavailable for url: https://geocode.arcgis.com/arcgis/rest/services/World/GeocodeServer/find?f=json&text=M1C%0A%2C+Toronto%2C+Ontario&maxLocations=1\n",
            "Status code 503 from https://geocode.arcgis.com/arcgis/rest/services/World/GeocodeServer/find: ERROR - 503 Server Error: Service Temporarily Unavailable for url: https://geocode.arcgis.com/arcgis/rest/services/World/GeocodeServer/find?f=json&text=M1C%0A%2C+Toronto%2C+Ontario&maxLocations=1\n",
            "Status code 503 from https://geocode.arcgis.com/arcgis/rest/services/World/GeocodeServer/find: ERROR - 503 Server Error: Service Temporarily Unavailable for url: https://geocode.arcgis.com/arcgis/rest/services/World/GeocodeServer/find?f=json&text=M1C%0A%2C+Toronto%2C+Ontario&maxLocations=1\n",
            "Status code 503 from https://geocode.arcgis.com/arcgis/rest/services/World/GeocodeServer/find: ERROR - 503 Server Error: Service Temporarily Unavailable for url: https://geocode.arcgis.com/arcgis/rest/services/World/GeocodeServer/find?f=json&text=M1C%0A%2C+Toronto%2C+Ontario&maxLocations=1\n",
            "Status code 503 from https://geocode.arcgis.com/arcgis/rest/services/World/GeocodeServer/find: ERROR - 503 Server Error: Service Temporarily Unavailable for url: https://geocode.arcgis.com/arcgis/rest/services/World/GeocodeServer/find?f=json&text=M1C%0A%2C+Toronto%2C+Ontario&maxLocations=1\n",
            "Status code 503 from https://geocode.arcgis.com/arcgis/rest/services/World/GeocodeServer/find: ERROR - 503 Server Error: Service Temporarily Unavailable for url: https://geocode.arcgis.com/arcgis/rest/services/World/GeocodeServer/find?f=json&text=M1C%0A%2C+Toronto%2C+Ontario&maxLocations=1\n",
            "Status code 503 from https://geocode.arcgis.com/arcgis/rest/services/World/GeocodeServer/find: ERROR - 503 Server Error: Service Temporarily Unavailable for url: https://geocode.arcgis.com/arcgis/rest/services/World/GeocodeServer/find?f=json&text=M1C%0A%2C+Toronto%2C+Ontario&maxLocations=1\n",
            "Status code 503 from https://geocode.arcgis.com/arcgis/rest/services/World/GeocodeServer/find: ERROR - 503 Server Error: Service Temporarily Unavailable for url: https://geocode.arcgis.com/arcgis/rest/services/World/GeocodeServer/find?f=json&text=M1C%0A%2C+Toronto%2C+Ontario&maxLocations=1\n",
            "Status code 503 from https://geocode.arcgis.com/arcgis/rest/services/World/GeocodeServer/find: ERROR - 503 Server Error: Service Temporarily Unavailable for url: https://geocode.arcgis.com/arcgis/rest/services/World/GeocodeServer/find?f=json&text=M1C%0A%2C+Toronto%2C+Ontario&maxLocations=1\n",
            "Status code 503 from https://geocode.arcgis.com/arcgis/rest/services/World/GeocodeServer/find: ERROR - 503 Server Error: Service Temporarily Unavailable for url: https://geocode.arcgis.com/arcgis/rest/services/World/GeocodeServer/find?f=json&text=M1C%0A%2C+Toronto%2C+Ontario&maxLocations=1\n",
            "Status code 503 from https://geocode.arcgis.com/arcgis/rest/services/World/GeocodeServer/find: ERROR - 503 Server Error: Service Temporarily Unavailable for url: https://geocode.arcgis.com/arcgis/rest/services/World/GeocodeServer/find?f=json&text=M1C%0A%2C+Toronto%2C+Ontario&maxLocations=1\n",
            "Status code 503 from https://geocode.arcgis.com/arcgis/rest/services/World/GeocodeServer/find: ERROR - 503 Server Error: Service Temporarily Unavailable for url: https://geocode.arcgis.com/arcgis/rest/services/World/GeocodeServer/find?f=json&text=M1C%0A%2C+Toronto%2C+Ontario&maxLocations=1\n",
            "Status code 503 from https://geocode.arcgis.com/arcgis/rest/services/World/GeocodeServer/find: ERROR - 503 Server Error: Service Temporarily Unavailable for url: https://geocode.arcgis.com/arcgis/rest/services/World/GeocodeServer/find?f=json&text=M1C%0A%2C+Toronto%2C+Ontario&maxLocations=1\n",
            "Status code 503 from https://geocode.arcgis.com/arcgis/rest/services/World/GeocodeServer/find: ERROR - 503 Server Error: Service Temporarily Unavailable for url: https://geocode.arcgis.com/arcgis/rest/services/World/GeocodeServer/find?f=json&text=M1C%0A%2C+Toronto%2C+Ontario&maxLocations=1\n",
            "Status code 503 from https://geocode.arcgis.com/arcgis/rest/services/World/GeocodeServer/find: ERROR - 503 Server Error: Service Temporarily Unavailable for url: https://geocode.arcgis.com/arcgis/rest/services/World/GeocodeServer/find?f=json&text=M1C%0A%2C+Toronto%2C+Ontario&maxLocations=1\n",
            "Status code 503 from https://geocode.arcgis.com/arcgis/rest/services/World/GeocodeServer/find: ERROR - 503 Server Error: Service Temporarily Unavailable for url: https://geocode.arcgis.com/arcgis/rest/services/World/GeocodeServer/find?f=json&text=M1C%0A%2C+Toronto%2C+Ontario&maxLocations=1\n",
            "Status code 503 from https://geocode.arcgis.com/arcgis/rest/services/World/GeocodeServer/find: ERROR - 503 Server Error: Service Temporarily Unavailable for url: https://geocode.arcgis.com/arcgis/rest/services/World/GeocodeServer/find?f=json&text=M1C%0A%2C+Toronto%2C+Ontario&maxLocations=1\n",
            "Status code 503 from https://geocode.arcgis.com/arcgis/rest/services/World/GeocodeServer/find: ERROR - 503 Server Error: Service Temporarily Unavailable for url: https://geocode.arcgis.com/arcgis/rest/services/World/GeocodeServer/find?f=json&text=M1C%0A%2C+Toronto%2C+Ontario&maxLocations=1\n",
            "Status code 503 from https://geocode.arcgis.com/arcgis/rest/services/World/GeocodeServer/find: ERROR - 503 Server Error: Service Temporarily Unavailable for url: https://geocode.arcgis.com/arcgis/rest/services/World/GeocodeServer/find?f=json&text=M1C%0A%2C+Toronto%2C+Ontario&maxLocations=1\n",
            "Status code 503 from https://geocode.arcgis.com/arcgis/rest/services/World/GeocodeServer/find: ERROR - 503 Server Error: Service Temporarily Unavailable for url: https://geocode.arcgis.com/arcgis/rest/services/World/GeocodeServer/find?f=json&text=M1C%0A%2C+Toronto%2C+Ontario&maxLocations=1\n",
            "Status code 503 from https://geocode.arcgis.com/arcgis/rest/services/World/GeocodeServer/find: ERROR - 503 Server Error: Service Temporarily Unavailable for url: https://geocode.arcgis.com/arcgis/rest/services/World/GeocodeServer/find?f=json&text=M1C%0A%2C+Toronto%2C+Ontario&maxLocations=1\n",
            "Status code 503 from https://geocode.arcgis.com/arcgis/rest/services/World/GeocodeServer/find: ERROR - 503 Server Error: Service Temporarily Unavailable for url: https://geocode.arcgis.com/arcgis/rest/services/World/GeocodeServer/find?f=json&text=M1C%0A%2C+Toronto%2C+Ontario&maxLocations=1\n",
            "Status code 503 from https://geocode.arcgis.com/arcgis/rest/services/World/GeocodeServer/find: ERROR - 503 Server Error: Service Temporarily Unavailable for url: https://geocode.arcgis.com/arcgis/rest/services/World/GeocodeServer/find?f=json&text=M1C%0A%2C+Toronto%2C+Ontario&maxLocations=1\n",
            "Status code 503 from https://geocode.arcgis.com/arcgis/rest/services/World/GeocodeServer/find: ERROR - 503 Server Error: Service Temporarily Unavailable for url: https://geocode.arcgis.com/arcgis/rest/services/World/GeocodeServer/find?f=json&text=M1C%0A%2C+Toronto%2C+Ontario&maxLocations=1\n",
            "Status code 503 from https://geocode.arcgis.com/arcgis/rest/services/World/GeocodeServer/find: ERROR - 503 Server Error: Service Temporarily Unavailable for url: https://geocode.arcgis.com/arcgis/rest/services/World/GeocodeServer/find?f=json&text=M1C%0A%2C+Toronto%2C+Ontario&maxLocations=1\n",
            "Status code 503 from https://geocode.arcgis.com/arcgis/rest/services/World/GeocodeServer/find: ERROR - 503 Server Error: Service Temporarily Unavailable for url: https://geocode.arcgis.com/arcgis/rest/services/World/GeocodeServer/find?f=json&text=M1C%0A%2C+Toronto%2C+Ontario&maxLocations=1\n",
            "Status code 503 from https://geocode.arcgis.com/arcgis/rest/services/World/GeocodeServer/find: ERROR - 503 Server Error: Service Temporarily Unavailable for url: https://geocode.arcgis.com/arcgis/rest/services/World/GeocodeServer/find?f=json&text=M1C%0A%2C+Toronto%2C+Ontario&maxLocations=1\n",
            "Status code Unknown from https://geocode.arcgis.com/arcgis/rest/services/World/GeocodeServer/find: ERROR - HTTPSConnectionPool(host='geocode.arcgis.com', port=443): Read timed out. (read timeout=5.0)\n",
            "Status code 503 from https://geocode.arcgis.com/arcgis/rest/services/World/GeocodeServer/find: ERROR - 503 Server Error: Service Temporarily Unavailable for url: https://geocode.arcgis.com/arcgis/rest/services/World/GeocodeServer/find?f=json&text=M1C%0A%2C+Toronto%2C+Ontario&maxLocations=1\n",
            "Status code 503 from https://geocode.arcgis.com/arcgis/rest/services/World/GeocodeServer/find: ERROR - 503 Server Error: Service Temporarily Unavailable for url: https://geocode.arcgis.com/arcgis/rest/services/World/GeocodeServer/find?f=json&text=M1C%0A%2C+Toronto%2C+Ontario&maxLocations=1\n",
            "Status code 503 from https://geocode.arcgis.com/arcgis/rest/services/World/GeocodeServer/find: ERROR - 503 Server Error: Service Temporarily Unavailable for url: https://geocode.arcgis.com/arcgis/rest/services/World/GeocodeServer/find?f=json&text=M1C%0A%2C+Toronto%2C+Ontario&maxLocations=1\n",
            "Status code 503 from https://geocode.arcgis.com/arcgis/rest/services/World/GeocodeServer/find: ERROR - 503 Server Error: Service Temporarily Unavailable for url: https://geocode.arcgis.com/arcgis/rest/services/World/GeocodeServer/find?f=json&text=M1C%0A%2C+Toronto%2C+Ontario&maxLocations=1\n",
            "Status code 503 from https://geocode.arcgis.com/arcgis/rest/services/World/GeocodeServer/find: ERROR - 503 Server Error: Service Temporarily Unavailable for url: https://geocode.arcgis.com/arcgis/rest/services/World/GeocodeServer/find?f=json&text=M1C%0A%2C+Toronto%2C+Ontario&maxLocations=1\n",
            "Status code Unknown from https://geocode.arcgis.com/arcgis/rest/services/World/GeocodeServer/find: ERROR - HTTPSConnectionPool(host='geocode.arcgis.com', port=443): Read timed out. (read timeout=5.0)\n",
            "Status code 503 from https://geocode.arcgis.com/arcgis/rest/services/World/GeocodeServer/find: ERROR - 503 Server Error: Service Temporarily Unavailable for url: https://geocode.arcgis.com/arcgis/rest/services/World/GeocodeServer/find?f=json&text=M1C%0A%2C+Toronto%2C+Ontario&maxLocations=1\n",
            "Status code 503 from https://geocode.arcgis.com/arcgis/rest/services/World/GeocodeServer/find: ERROR - 503 Server Error: Service Temporarily Unavailable for url: https://geocode.arcgis.com/arcgis/rest/services/World/GeocodeServer/find?f=json&text=M1C%0A%2C+Toronto%2C+Ontario&maxLocations=1\n",
            "Status code 503 from https://geocode.arcgis.com/arcgis/rest/services/World/GeocodeServer/find: ERROR - 503 Server Error: Service Temporarily Unavailable for url: https://geocode.arcgis.com/arcgis/rest/services/World/GeocodeServer/find?f=json&text=M1C%0A%2C+Toronto%2C+Ontario&maxLocations=1\n",
            "Status code Unknown from https://geocode.arcgis.com/arcgis/rest/services/World/GeocodeServer/find: ERROR - HTTPSConnectionPool(host='geocode.arcgis.com', port=443): Read timed out. (read timeout=5.0)\n",
            "Status code 503 from https://geocode.arcgis.com/arcgis/rest/services/World/GeocodeServer/find: ERROR - 503 Server Error: Service Temporarily Unavailable for url: https://geocode.arcgis.com/arcgis/rest/services/World/GeocodeServer/find?f=json&text=M1C%0A%2C+Toronto%2C+Ontario&maxLocations=1\n",
            "Status code 503 from https://geocode.arcgis.com/arcgis/rest/services/World/GeocodeServer/find: ERROR - 503 Server Error: Service Temporarily Unavailable for url: https://geocode.arcgis.com/arcgis/rest/services/World/GeocodeServer/find?f=json&text=M1C%0A%2C+Toronto%2C+Ontario&maxLocations=1\n",
            "Status code 503 from https://geocode.arcgis.com/arcgis/rest/services/World/GeocodeServer/find: ERROR - 503 Server Error: Service Temporarily Unavailable for url: https://geocode.arcgis.com/arcgis/rest/services/World/GeocodeServer/find?f=json&text=M1C%0A%2C+Toronto%2C+Ontario&maxLocations=1\n",
            "Status code 503 from https://geocode.arcgis.com/arcgis/rest/services/World/GeocodeServer/find: ERROR - 503 Server Error: Service Temporarily Unavailable for url: https://geocode.arcgis.com/arcgis/rest/services/World/GeocodeServer/find?f=json&text=M1C%0A%2C+Toronto%2C+Ontario&maxLocations=1\n",
            "Status code 503 from https://geocode.arcgis.com/arcgis/rest/services/World/GeocodeServer/find: ERROR - 503 Server Error: Service Temporarily Unavailable for url: https://geocode.arcgis.com/arcgis/rest/services/World/GeocodeServer/find?f=json&text=M1C%0A%2C+Toronto%2C+Ontario&maxLocations=1\n",
            "Status code 503 from https://geocode.arcgis.com/arcgis/rest/services/World/GeocodeServer/find: ERROR - 503 Server Error: Service Temporarily Unavailable for url: https://geocode.arcgis.com/arcgis/rest/services/World/GeocodeServer/find?f=json&text=M1C%0A%2C+Toronto%2C+Ontario&maxLocations=1\n",
            "Status code 503 from https://geocode.arcgis.com/arcgis/rest/services/World/GeocodeServer/find: ERROR - 503 Server Error: Service Temporarily Unavailable for url: https://geocode.arcgis.com/arcgis/rest/services/World/GeocodeServer/find?f=json&text=M1C%0A%2C+Toronto%2C+Ontario&maxLocations=1\n",
            "Status code 503 from https://geocode.arcgis.com/arcgis/rest/services/World/GeocodeServer/find: ERROR - 503 Server Error: Service Temporarily Unavailable for url: https://geocode.arcgis.com/arcgis/rest/services/World/GeocodeServer/find?f=json&text=M1C%0A%2C+Toronto%2C+Ontario&maxLocations=1\n",
            "Status code 503 from https://geocode.arcgis.com/arcgis/rest/services/World/GeocodeServer/find: ERROR - 503 Server Error: Service Temporarily Unavailable for url: https://geocode.arcgis.com/arcgis/rest/services/World/GeocodeServer/find?f=json&text=M1C%0A%2C+Toronto%2C+Ontario&maxLocations=1\n",
            "Status code 503 from https://geocode.arcgis.com/arcgis/rest/services/World/GeocodeServer/find: ERROR - 503 Server Error: Service Temporarily Unavailable for url: https://geocode.arcgis.com/arcgis/rest/services/World/GeocodeServer/find?f=json&text=M1C%0A%2C+Toronto%2C+Ontario&maxLocations=1\n",
            "Status code 503 from https://geocode.arcgis.com/arcgis/rest/services/World/GeocodeServer/find: ERROR - 503 Server Error: Service Temporarily Unavailable for url: https://geocode.arcgis.com/arcgis/rest/services/World/GeocodeServer/find?f=json&text=M1C%0A%2C+Toronto%2C+Ontario&maxLocations=1\n",
            "Status code 503 from https://geocode.arcgis.com/arcgis/rest/services/World/GeocodeServer/find: ERROR - 503 Server Error: Service Temporarily Unavailable for url: https://geocode.arcgis.com/arcgis/rest/services/World/GeocodeServer/find?f=json&text=M1C%0A%2C+Toronto%2C+Ontario&maxLocations=1\n",
            "Status code 503 from https://geocode.arcgis.com/arcgis/rest/services/World/GeocodeServer/find: ERROR - 503 Server Error: Service Temporarily Unavailable for url: https://geocode.arcgis.com/arcgis/rest/services/World/GeocodeServer/find?f=json&text=M1C%0A%2C+Toronto%2C+Ontario&maxLocations=1\n",
            "Status code 503 from https://geocode.arcgis.com/arcgis/rest/services/World/GeocodeServer/find: ERROR - 503 Server Error: Service Temporarily Unavailable for url: https://geocode.arcgis.com/arcgis/rest/services/World/GeocodeServer/find?f=json&text=M1C%0A%2C+Toronto%2C+Ontario&maxLocations=1\n",
            "Status code 503 from https://geocode.arcgis.com/arcgis/rest/services/World/GeocodeServer/find: ERROR - 503 Server Error: Service Temporarily Unavailable for url: https://geocode.arcgis.com/arcgis/rest/services/World/GeocodeServer/find?f=json&text=M1C%0A%2C+Toronto%2C+Ontario&maxLocations=1\n",
            "Status code 503 from https://geocode.arcgis.com/arcgis/rest/services/World/GeocodeServer/find: ERROR - 503 Server Error: Service Temporarily Unavailable for url: https://geocode.arcgis.com/arcgis/rest/services/World/GeocodeServer/find?f=json&text=M1C%0A%2C+Toronto%2C+Ontario&maxLocations=1\n",
            "Status code 503 from https://geocode.arcgis.com/arcgis/rest/services/World/GeocodeServer/find: ERROR - 503 Server Error: Service Temporarily Unavailable for url: https://geocode.arcgis.com/arcgis/rest/services/World/GeocodeServer/find?f=json&text=M1C%0A%2C+Toronto%2C+Ontario&maxLocations=1\n",
            "Status code 503 from https://geocode.arcgis.com/arcgis/rest/services/World/GeocodeServer/find: ERROR - 503 Server Error: Service Temporarily Unavailable for url: https://geocode.arcgis.com/arcgis/rest/services/World/GeocodeServer/find?f=json&text=M1C%0A%2C+Toronto%2C+Ontario&maxLocations=1\n",
            "Status code 503 from https://geocode.arcgis.com/arcgis/rest/services/World/GeocodeServer/find: ERROR - 503 Server Error: Service Temporarily Unavailable for url: https://geocode.arcgis.com/arcgis/rest/services/World/GeocodeServer/find?f=json&text=M1C%0A%2C+Toronto%2C+Ontario&maxLocations=1\n",
            "Status code 503 from https://geocode.arcgis.com/arcgis/rest/services/World/GeocodeServer/find: ERROR - 503 Server Error: Service Temporarily Unavailable for url: https://geocode.arcgis.com/arcgis/rest/services/World/GeocodeServer/find?f=json&text=M1C%0A%2C+Toronto%2C+Ontario&maxLocations=1\n",
            "Status code 503 from https://geocode.arcgis.com/arcgis/rest/services/World/GeocodeServer/find: ERROR - 503 Server Error: Service Temporarily Unavailable for url: https://geocode.arcgis.com/arcgis/rest/services/World/GeocodeServer/find?f=json&text=M1C%0A%2C+Toronto%2C+Ontario&maxLocations=1\n",
            "Status code 503 from https://geocode.arcgis.com/arcgis/rest/services/World/GeocodeServer/find: ERROR - 503 Server Error: Service Temporarily Unavailable for url: https://geocode.arcgis.com/arcgis/rest/services/World/GeocodeServer/find?f=json&text=M1C%0A%2C+Toronto%2C+Ontario&maxLocations=1\n",
            "Status code 503 from https://geocode.arcgis.com/arcgis/rest/services/World/GeocodeServer/find: ERROR - 503 Server Error: Service Temporarily Unavailable for url: https://geocode.arcgis.com/arcgis/rest/services/World/GeocodeServer/find?f=json&text=M1C%0A%2C+Toronto%2C+Ontario&maxLocations=1\n",
            "Status code 503 from https://geocode.arcgis.com/arcgis/rest/services/World/GeocodeServer/find: ERROR - 503 Server Error: Service Temporarily Unavailable for url: https://geocode.arcgis.com/arcgis/rest/services/World/GeocodeServer/find?f=json&text=M1C%0A%2C+Toronto%2C+Ontario&maxLocations=1\n",
            "Status code 503 from https://geocode.arcgis.com/arcgis/rest/services/World/GeocodeServer/find: ERROR - 503 Server Error: Service Temporarily Unavailable for url: https://geocode.arcgis.com/arcgis/rest/services/World/GeocodeServer/find?f=json&text=M1C%0A%2C+Toronto%2C+Ontario&maxLocations=1\n",
            "Status code 503 from https://geocode.arcgis.com/arcgis/rest/services/World/GeocodeServer/find: ERROR - 503 Server Error: Service Temporarily Unavailable for url: https://geocode.arcgis.com/arcgis/rest/services/World/GeocodeServer/find?f=json&text=M1C%0A%2C+Toronto%2C+Ontario&maxLocations=1\n",
            "Status code 503 from https://geocode.arcgis.com/arcgis/rest/services/World/GeocodeServer/find: ERROR - 503 Server Error: Service Temporarily Unavailable for url: https://geocode.arcgis.com/arcgis/rest/services/World/GeocodeServer/find?f=json&text=M1C%0A%2C+Toronto%2C+Ontario&maxLocations=1\n",
            "Status code 503 from https://geocode.arcgis.com/arcgis/rest/services/World/GeocodeServer/find: ERROR - 503 Server Error: Service Temporarily Unavailable for url: https://geocode.arcgis.com/arcgis/rest/services/World/GeocodeServer/find?f=json&text=M1C%0A%2C+Toronto%2C+Ontario&maxLocations=1\n",
            "Status code 503 from https://geocode.arcgis.com/arcgis/rest/services/World/GeocodeServer/find: ERROR - 503 Server Error: Service Temporarily Unavailable for url: https://geocode.arcgis.com/arcgis/rest/services/World/GeocodeServer/find?f=json&text=M1C%0A%2C+Toronto%2C+Ontario&maxLocations=1\n",
            "Status code 503 from https://geocode.arcgis.com/arcgis/rest/services/World/GeocodeServer/find: ERROR - 503 Server Error: Service Temporarily Unavailable for url: https://geocode.arcgis.com/arcgis/rest/services/World/GeocodeServer/find?f=json&text=M1C%0A%2C+Toronto%2C+Ontario&maxLocations=1\n",
            "Status code 503 from https://geocode.arcgis.com/arcgis/rest/services/World/GeocodeServer/find: ERROR - 503 Server Error: Service Temporarily Unavailable for url: https://geocode.arcgis.com/arcgis/rest/services/World/GeocodeServer/find?f=json&text=M1C%0A%2C+Toronto%2C+Ontario&maxLocations=1\n",
            "Status code 503 from https://geocode.arcgis.com/arcgis/rest/services/World/GeocodeServer/find: ERROR - 503 Server Error: Service Temporarily Unavailable for url: https://geocode.arcgis.com/arcgis/rest/services/World/GeocodeServer/find?f=json&text=M1C%0A%2C+Toronto%2C+Ontario&maxLocations=1\n",
            "Status code 503 from https://geocode.arcgis.com/arcgis/rest/services/World/GeocodeServer/find: ERROR - 503 Server Error: Service Temporarily Unavailable for url: https://geocode.arcgis.com/arcgis/rest/services/World/GeocodeServer/find?f=json&text=M1C%0A%2C+Toronto%2C+Ontario&maxLocations=1\n",
            "Status code 503 from https://geocode.arcgis.com/arcgis/rest/services/World/GeocodeServer/find: ERROR - 503 Server Error: Service Temporarily Unavailable for url: https://geocode.arcgis.com/arcgis/rest/services/World/GeocodeServer/find?f=json&text=M1C%0A%2C+Toronto%2C+Ontario&maxLocations=1\n",
            "Status code 503 from https://geocode.arcgis.com/arcgis/rest/services/World/GeocodeServer/find: ERROR - 503 Server Error: Service Temporarily Unavailable for url: https://geocode.arcgis.com/arcgis/rest/services/World/GeocodeServer/find?f=json&text=M1C%0A%2C+Toronto%2C+Ontario&maxLocations=1\n",
            "Status code 503 from https://geocode.arcgis.com/arcgis/rest/services/World/GeocodeServer/find: ERROR - 503 Server Error: Service Temporarily Unavailable for url: https://geocode.arcgis.com/arcgis/rest/services/World/GeocodeServer/find?f=json&text=M1C%0A%2C+Toronto%2C+Ontario&maxLocations=1\n",
            "Status code 503 from https://geocode.arcgis.com/arcgis/rest/services/World/GeocodeServer/find: ERROR - 503 Server Error: Service Temporarily Unavailable for url: https://geocode.arcgis.com/arcgis/rest/services/World/GeocodeServer/find?f=json&text=M1C%0A%2C+Toronto%2C+Ontario&maxLocations=1\n",
            "Status code 503 from https://geocode.arcgis.com/arcgis/rest/services/World/GeocodeServer/find: ERROR - 503 Server Error: Service Temporarily Unavailable for url: https://geocode.arcgis.com/arcgis/rest/services/World/GeocodeServer/find?f=json&text=M1C%0A%2C+Toronto%2C+Ontario&maxLocations=1\n",
            "Status code 503 from https://geocode.arcgis.com/arcgis/rest/services/World/GeocodeServer/find: ERROR - 503 Server Error: Service Temporarily Unavailable for url: https://geocode.arcgis.com/arcgis/rest/services/World/GeocodeServer/find?f=json&text=M1C%0A%2C+Toronto%2C+Ontario&maxLocations=1\n",
            "Status code 503 from https://geocode.arcgis.com/arcgis/rest/services/World/GeocodeServer/find: ERROR - 503 Server Error: Service Temporarily Unavailable for url: https://geocode.arcgis.com/arcgis/rest/services/World/GeocodeServer/find?f=json&text=M1C%0A%2C+Toronto%2C+Ontario&maxLocations=1\n",
            "Status code 503 from https://geocode.arcgis.com/arcgis/rest/services/World/GeocodeServer/find: ERROR - 503 Server Error: Service Temporarily Unavailable for url: https://geocode.arcgis.com/arcgis/rest/services/World/GeocodeServer/find?f=json&text=M1C%0A%2C+Toronto%2C+Ontario&maxLocations=1\n",
            "Status code 503 from https://geocode.arcgis.com/arcgis/rest/services/World/GeocodeServer/find: ERROR - 503 Server Error: Service Temporarily Unavailable for url: https://geocode.arcgis.com/arcgis/rest/services/World/GeocodeServer/find?f=json&text=M1C%0A%2C+Toronto%2C+Ontario&maxLocations=1\n",
            "Status code 503 from https://geocode.arcgis.com/arcgis/rest/services/World/GeocodeServer/find: ERROR - 503 Server Error: Service Temporarily Unavailable for url: https://geocode.arcgis.com/arcgis/rest/services/World/GeocodeServer/find?f=json&text=M1C%0A%2C+Toronto%2C+Ontario&maxLocations=1\n",
            "Status code 503 from https://geocode.arcgis.com/arcgis/rest/services/World/GeocodeServer/find: ERROR - 503 Server Error: Service Temporarily Unavailable for url: https://geocode.arcgis.com/arcgis/rest/services/World/GeocodeServer/find?f=json&text=M1C%0A%2C+Toronto%2C+Ontario&maxLocations=1\n",
            "Status code 503 from https://geocode.arcgis.com/arcgis/rest/services/World/GeocodeServer/find: ERROR - 503 Server Error: Service Temporarily Unavailable for url: https://geocode.arcgis.com/arcgis/rest/services/World/GeocodeServer/find?f=json&text=M1C%0A%2C+Toronto%2C+Ontario&maxLocations=1\n",
            "Status code 503 from https://geocode.arcgis.com/arcgis/rest/services/World/GeocodeServer/find: ERROR - 503 Server Error: Service Temporarily Unavailable for url: https://geocode.arcgis.com/arcgis/rest/services/World/GeocodeServer/find?f=json&text=M1C%0A%2C+Toronto%2C+Ontario&maxLocations=1\n",
            "Status code 503 from https://geocode.arcgis.com/arcgis/rest/services/World/GeocodeServer/find: ERROR - 503 Server Error: Service Temporarily Unavailable for url: https://geocode.arcgis.com/arcgis/rest/services/World/GeocodeServer/find?f=json&text=M1C%0A%2C+Toronto%2C+Ontario&maxLocations=1\n",
            "Status code 503 from https://geocode.arcgis.com/arcgis/rest/services/World/GeocodeServer/find: ERROR - 503 Server Error: Service Temporarily Unavailable for url: https://geocode.arcgis.com/arcgis/rest/services/World/GeocodeServer/find?f=json&text=M1C%0A%2C+Toronto%2C+Ontario&maxLocations=1\n",
            "Status code 503 from https://geocode.arcgis.com/arcgis/rest/services/World/GeocodeServer/find: ERROR - 503 Server Error: Service Temporarily Unavailable for url: https://geocode.arcgis.com/arcgis/rest/services/World/GeocodeServer/find?f=json&text=M1C%0A%2C+Toronto%2C+Ontario&maxLocations=1\n",
            "Status code 503 from https://geocode.arcgis.com/arcgis/rest/services/World/GeocodeServer/find: ERROR - 503 Server Error: Service Temporarily Unavailable for url: https://geocode.arcgis.com/arcgis/rest/services/World/GeocodeServer/find?f=json&text=M1C%0A%2C+Toronto%2C+Ontario&maxLocations=1\n",
            "Status code 503 from https://geocode.arcgis.com/arcgis/rest/services/World/GeocodeServer/find: ERROR - 503 Server Error: Service Temporarily Unavailable for url: https://geocode.arcgis.com/arcgis/rest/services/World/GeocodeServer/find?f=json&text=M1C%0A%2C+Toronto%2C+Ontario&maxLocations=1\n",
            "Status code 503 from https://geocode.arcgis.com/arcgis/rest/services/World/GeocodeServer/find: ERROR - 503 Server Error: Service Temporarily Unavailable for url: https://geocode.arcgis.com/arcgis/rest/services/World/GeocodeServer/find?f=json&text=M1C%0A%2C+Toronto%2C+Ontario&maxLocations=1\n",
            "Status code 503 from https://geocode.arcgis.com/arcgis/rest/services/World/GeocodeServer/find: ERROR - 503 Server Error: Service Temporarily Unavailable for url: https://geocode.arcgis.com/arcgis/rest/services/World/GeocodeServer/find?f=json&text=M1C%0A%2C+Toronto%2C+Ontario&maxLocations=1\n",
            "Status code 503 from https://geocode.arcgis.com/arcgis/rest/services/World/GeocodeServer/find: ERROR - 503 Server Error: Service Temporarily Unavailable for url: https://geocode.arcgis.com/arcgis/rest/services/World/GeocodeServer/find?f=json&text=M1C%0A%2C+Toronto%2C+Ontario&maxLocations=1\n",
            "Status code 503 from https://geocode.arcgis.com/arcgis/rest/services/World/GeocodeServer/find: ERROR - 503 Server Error: Service Temporarily Unavailable for url: https://geocode.arcgis.com/arcgis/rest/services/World/GeocodeServer/find?f=json&text=M1C%0A%2C+Toronto%2C+Ontario&maxLocations=1\n",
            "Status code 503 from https://geocode.arcgis.com/arcgis/rest/services/World/GeocodeServer/find: ERROR - 503 Server Error: Service Temporarily Unavailable for url: https://geocode.arcgis.com/arcgis/rest/services/World/GeocodeServer/find?f=json&text=M1C%0A%2C+Toronto%2C+Ontario&maxLocations=1\n",
            "Status code 503 from https://geocode.arcgis.com/arcgis/rest/services/World/GeocodeServer/find: ERROR - 503 Server Error: Service Temporarily Unavailable for url: https://geocode.arcgis.com/arcgis/rest/services/World/GeocodeServer/find?f=json&text=M1C%0A%2C+Toronto%2C+Ontario&maxLocations=1\n",
            "Status code Unknown from https://geocode.arcgis.com/arcgis/rest/services/World/GeocodeServer/find: ERROR - HTTPSConnectionPool(host='geocode.arcgis.com', port=443): Read timed out. (read timeout=5.0)\n",
            "Status code Unknown from https://geocode.arcgis.com/arcgis/rest/services/World/GeocodeServer/find: ERROR - HTTPSConnectionPool(host='geocode.arcgis.com', port=443): Read timed out. (read timeout=5.0)\n",
            "Status code 503 from https://geocode.arcgis.com/arcgis/rest/services/World/GeocodeServer/find: ERROR - 503 Server Error: Service Temporarily Unavailable for url: https://geocode.arcgis.com/arcgis/rest/services/World/GeocodeServer/find?f=json&text=M1C%0A%2C+Toronto%2C+Ontario&maxLocations=1\n",
            "Status code 503 from https://geocode.arcgis.com/arcgis/rest/services/World/GeocodeServer/find: ERROR - 503 Server Error: Service Temporarily Unavailable for url: https://geocode.arcgis.com/arcgis/rest/services/World/GeocodeServer/find?f=json&text=M1C%0A%2C+Toronto%2C+Ontario&maxLocations=1\n",
            "Status code 503 from https://geocode.arcgis.com/arcgis/rest/services/World/GeocodeServer/find: ERROR - 503 Server Error: Service Temporarily Unavailable for url: https://geocode.arcgis.com/arcgis/rest/services/World/GeocodeServer/find?f=json&text=M1C%0A%2C+Toronto%2C+Ontario&maxLocations=1\n",
            "Status code Unknown from https://geocode.arcgis.com/arcgis/rest/services/World/GeocodeServer/find: ERROR - HTTPSConnectionPool(host='geocode.arcgis.com', port=443): Read timed out. (read timeout=5.0)\n",
            "Status code 503 from https://geocode.arcgis.com/arcgis/rest/services/World/GeocodeServer/find: ERROR - 503 Server Error: Service Temporarily Unavailable for url: https://geocode.arcgis.com/arcgis/rest/services/World/GeocodeServer/find?f=json&text=M1C%0A%2C+Toronto%2C+Ontario&maxLocations=1\n",
            "Status code 503 from https://geocode.arcgis.com/arcgis/rest/services/World/GeocodeServer/find: ERROR - 503 Server Error: Service Temporarily Unavailable for url: https://geocode.arcgis.com/arcgis/rest/services/World/GeocodeServer/find?f=json&text=M1C%0A%2C+Toronto%2C+Ontario&maxLocations=1\n",
            "Status code 503 from https://geocode.arcgis.com/arcgis/rest/services/World/GeocodeServer/find: ERROR - 503 Server Error: Service Temporarily Unavailable for url: https://geocode.arcgis.com/arcgis/rest/services/World/GeocodeServer/find?f=json&text=M1C%0A%2C+Toronto%2C+Ontario&maxLocations=1\n",
            "Status code 503 from https://geocode.arcgis.com/arcgis/rest/services/World/GeocodeServer/find: ERROR - 503 Server Error: Service Temporarily Unavailable for url: https://geocode.arcgis.com/arcgis/rest/services/World/GeocodeServer/find?f=json&text=M1C%0A%2C+Toronto%2C+Ontario&maxLocations=1\n",
            "Status code 503 from https://geocode.arcgis.com/arcgis/rest/services/World/GeocodeServer/find: ERROR - 503 Server Error: Service Temporarily Unavailable for url: https://geocode.arcgis.com/arcgis/rest/services/World/GeocodeServer/find?f=json&text=M1C%0A%2C+Toronto%2C+Ontario&maxLocations=1\n",
            "Status code 503 from https://geocode.arcgis.com/arcgis/rest/services/World/GeocodeServer/find: ERROR - 503 Server Error: Service Temporarily Unavailable for url: https://geocode.arcgis.com/arcgis/rest/services/World/GeocodeServer/find?f=json&text=M1C%0A%2C+Toronto%2C+Ontario&maxLocations=1\n",
            "Status code 503 from https://geocode.arcgis.com/arcgis/rest/services/World/GeocodeServer/find: ERROR - 503 Server Error: Service Temporarily Unavailable for url: https://geocode.arcgis.com/arcgis/rest/services/World/GeocodeServer/find?f=json&text=M1C%0A%2C+Toronto%2C+Ontario&maxLocations=1\n",
            "Status code 503 from https://geocode.arcgis.com/arcgis/rest/services/World/GeocodeServer/find: ERROR - 503 Server Error: Service Temporarily Unavailable for url: https://geocode.arcgis.com/arcgis/rest/services/World/GeocodeServer/find?f=json&text=M1C%0A%2C+Toronto%2C+Ontario&maxLocations=1\n",
            "Status code 503 from https://geocode.arcgis.com/arcgis/rest/services/World/GeocodeServer/find: ERROR - 503 Server Error: Service Temporarily Unavailable for url: https://geocode.arcgis.com/arcgis/rest/services/World/GeocodeServer/find?f=json&text=M1C%0A%2C+Toronto%2C+Ontario&maxLocations=1\n",
            "Status code 503 from https://geocode.arcgis.com/arcgis/rest/services/World/GeocodeServer/find: ERROR - 503 Server Error: Service Temporarily Unavailable for url: https://geocode.arcgis.com/arcgis/rest/services/World/GeocodeServer/find?f=json&text=M1C%0A%2C+Toronto%2C+Ontario&maxLocations=1\n",
            "Status code 503 from https://geocode.arcgis.com/arcgis/rest/services/World/GeocodeServer/find: ERROR - 503 Server Error: Service Temporarily Unavailable for url: https://geocode.arcgis.com/arcgis/rest/services/World/GeocodeServer/find?f=json&text=M1C%0A%2C+Toronto%2C+Ontario&maxLocations=1\n",
            "Status code 503 from https://geocode.arcgis.com/arcgis/rest/services/World/GeocodeServer/find: ERROR - 503 Server Error: Service Temporarily Unavailable for url: https://geocode.arcgis.com/arcgis/rest/services/World/GeocodeServer/find?f=json&text=M1C%0A%2C+Toronto%2C+Ontario&maxLocations=1\n",
            "Status code 503 from https://geocode.arcgis.com/arcgis/rest/services/World/GeocodeServer/find: ERROR - 503 Server Error: Service Temporarily Unavailable for url: https://geocode.arcgis.com/arcgis/rest/services/World/GeocodeServer/find?f=json&text=M1C%0A%2C+Toronto%2C+Ontario&maxLocations=1\n",
            "Status code 503 from https://geocode.arcgis.com/arcgis/rest/services/World/GeocodeServer/find: ERROR - 503 Server Error: Service Temporarily Unavailable for url: https://geocode.arcgis.com/arcgis/rest/services/World/GeocodeServer/find?f=json&text=M1C%0A%2C+Toronto%2C+Ontario&maxLocations=1\n",
            "Status code 503 from https://geocode.arcgis.com/arcgis/rest/services/World/GeocodeServer/find: ERROR - 503 Server Error: Service Temporarily Unavailable for url: https://geocode.arcgis.com/arcgis/rest/services/World/GeocodeServer/find?f=json&text=M1C%0A%2C+Toronto%2C+Ontario&maxLocations=1\n",
            "Status code 503 from https://geocode.arcgis.com/arcgis/rest/services/World/GeocodeServer/find: ERROR - 503 Server Error: Service Temporarily Unavailable for url: https://geocode.arcgis.com/arcgis/rest/services/World/GeocodeServer/find?f=json&text=M1C%0A%2C+Toronto%2C+Ontario&maxLocations=1\n",
            "Status code 503 from https://geocode.arcgis.com/arcgis/rest/services/World/GeocodeServer/find: ERROR - 503 Server Error: Service Temporarily Unavailable for url: https://geocode.arcgis.com/arcgis/rest/services/World/GeocodeServer/find?f=json&text=M1C%0A%2C+Toronto%2C+Ontario&maxLocations=1\n",
            "Status code 503 from https://geocode.arcgis.com/arcgis/rest/services/World/GeocodeServer/find: ERROR - 503 Server Error: Service Temporarily Unavailable for url: https://geocode.arcgis.com/arcgis/rest/services/World/GeocodeServer/find?f=json&text=M1C%0A%2C+Toronto%2C+Ontario&maxLocations=1\n",
            "Status code 503 from https://geocode.arcgis.com/arcgis/rest/services/World/GeocodeServer/find: ERROR - 503 Server Error: Service Temporarily Unavailable for url: https://geocode.arcgis.com/arcgis/rest/services/World/GeocodeServer/find?f=json&text=M1C%0A%2C+Toronto%2C+Ontario&maxLocations=1\n",
            "Status code 503 from https://geocode.arcgis.com/arcgis/rest/services/World/GeocodeServer/find: ERROR - 503 Server Error: Service Temporarily Unavailable for url: https://geocode.arcgis.com/arcgis/rest/services/World/GeocodeServer/find?f=json&text=M1C%0A%2C+Toronto%2C+Ontario&maxLocations=1\n",
            "Status code 503 from https://geocode.arcgis.com/arcgis/rest/services/World/GeocodeServer/find: ERROR - 503 Server Error: Service Temporarily Unavailable for url: https://geocode.arcgis.com/arcgis/rest/services/World/GeocodeServer/find?f=json&text=M1C%0A%2C+Toronto%2C+Ontario&maxLocations=1\n",
            "Status code 503 from https://geocode.arcgis.com/arcgis/rest/services/World/GeocodeServer/find: ERROR - 503 Server Error: Service Temporarily Unavailable for url: https://geocode.arcgis.com/arcgis/rest/services/World/GeocodeServer/find?f=json&text=M1C%0A%2C+Toronto%2C+Ontario&maxLocations=1\n",
            "Status code 503 from https://geocode.arcgis.com/arcgis/rest/services/World/GeocodeServer/find: ERROR - 503 Server Error: Service Temporarily Unavailable for url: https://geocode.arcgis.com/arcgis/rest/services/World/GeocodeServer/find?f=json&text=M1C%0A%2C+Toronto%2C+Ontario&maxLocations=1\n",
            "Status code 503 from https://geocode.arcgis.com/arcgis/rest/services/World/GeocodeServer/find: ERROR - 503 Server Error: Service Temporarily Unavailable for url: https://geocode.arcgis.com/arcgis/rest/services/World/GeocodeServer/find?f=json&text=M1C%0A%2C+Toronto%2C+Ontario&maxLocations=1\n",
            "Status code 503 from https://geocode.arcgis.com/arcgis/rest/services/World/GeocodeServer/find: ERROR - 503 Server Error: Service Temporarily Unavailable for url: https://geocode.arcgis.com/arcgis/rest/services/World/GeocodeServer/find?f=json&text=M1C%0A%2C+Toronto%2C+Ontario&maxLocations=1\n",
            "Status code 503 from https://geocode.arcgis.com/arcgis/rest/services/World/GeocodeServer/find: ERROR - 503 Server Error: Service Temporarily Unavailable for url: https://geocode.arcgis.com/arcgis/rest/services/World/GeocodeServer/find?f=json&text=M1C%0A%2C+Toronto%2C+Ontario&maxLocations=1\n",
            "Status code 503 from https://geocode.arcgis.com/arcgis/rest/services/World/GeocodeServer/find: ERROR - 503 Server Error: Service Temporarily Unavailable for url: https://geocode.arcgis.com/arcgis/rest/services/World/GeocodeServer/find?f=json&text=M1C%0A%2C+Toronto%2C+Ontario&maxLocations=1\n",
            "Status code 503 from https://geocode.arcgis.com/arcgis/rest/services/World/GeocodeServer/find: ERROR - 503 Server Error: Service Temporarily Unavailable for url: https://geocode.arcgis.com/arcgis/rest/services/World/GeocodeServer/find?f=json&text=M1C%0A%2C+Toronto%2C+Ontario&maxLocations=1\n",
            "Status code 503 from https://geocode.arcgis.com/arcgis/rest/services/World/GeocodeServer/find: ERROR - 503 Server Error: Service Temporarily Unavailable for url: https://geocode.arcgis.com/arcgis/rest/services/World/GeocodeServer/find?f=json&text=M1C%0A%2C+Toronto%2C+Ontario&maxLocations=1\n",
            "Status code 503 from https://geocode.arcgis.com/arcgis/rest/services/World/GeocodeServer/find: ERROR - 503 Server Error: Service Temporarily Unavailable for url: https://geocode.arcgis.com/arcgis/rest/services/World/GeocodeServer/find?f=json&text=M1C%0A%2C+Toronto%2C+Ontario&maxLocations=1\n",
            "Status code 503 from https://geocode.arcgis.com/arcgis/rest/services/World/GeocodeServer/find: ERROR - 503 Server Error: Service Temporarily Unavailable for url: https://geocode.arcgis.com/arcgis/rest/services/World/GeocodeServer/find?f=json&text=M1C%0A%2C+Toronto%2C+Ontario&maxLocations=1\n",
            "Status code 503 from https://geocode.arcgis.com/arcgis/rest/services/World/GeocodeServer/find: ERROR - 503 Server Error: Service Temporarily Unavailable for url: https://geocode.arcgis.com/arcgis/rest/services/World/GeocodeServer/find?f=json&text=M1C%0A%2C+Toronto%2C+Ontario&maxLocations=1\n",
            "Status code 503 from https://geocode.arcgis.com/arcgis/rest/services/World/GeocodeServer/find: ERROR - 503 Server Error: Service Temporarily Unavailable for url: https://geocode.arcgis.com/arcgis/rest/services/World/GeocodeServer/find?f=json&text=M1C%0A%2C+Toronto%2C+Ontario&maxLocations=1\n",
            "Status code 503 from https://geocode.arcgis.com/arcgis/rest/services/World/GeocodeServer/find: ERROR - 503 Server Error: Service Temporarily Unavailable for url: https://geocode.arcgis.com/arcgis/rest/services/World/GeocodeServer/find?f=json&text=M1C%0A%2C+Toronto%2C+Ontario&maxLocations=1\n",
            "Status code 503 from https://geocode.arcgis.com/arcgis/rest/services/World/GeocodeServer/find: ERROR - 503 Server Error: Service Temporarily Unavailable for url: https://geocode.arcgis.com/arcgis/rest/services/World/GeocodeServer/find?f=json&text=M1C%0A%2C+Toronto%2C+Ontario&maxLocations=1\n",
            "Status code 503 from https://geocode.arcgis.com/arcgis/rest/services/World/GeocodeServer/find: ERROR - 503 Server Error: Service Temporarily Unavailable for url: https://geocode.arcgis.com/arcgis/rest/services/World/GeocodeServer/find?f=json&text=M1C%0A%2C+Toronto%2C+Ontario&maxLocations=1\n",
            "Status code 503 from https://geocode.arcgis.com/arcgis/rest/services/World/GeocodeServer/find: ERROR - 503 Server Error: Service Temporarily Unavailable for url: https://geocode.arcgis.com/arcgis/rest/services/World/GeocodeServer/find?f=json&text=M1C%0A%2C+Toronto%2C+Ontario&maxLocations=1\n",
            "Status code 503 from https://geocode.arcgis.com/arcgis/rest/services/World/GeocodeServer/find: ERROR - 503 Server Error: Service Temporarily Unavailable for url: https://geocode.arcgis.com/arcgis/rest/services/World/GeocodeServer/find?f=json&text=M1C%0A%2C+Toronto%2C+Ontario&maxLocations=1\n",
            "Status code 503 from https://geocode.arcgis.com/arcgis/rest/services/World/GeocodeServer/find: ERROR - 503 Server Error: Service Temporarily Unavailable for url: https://geocode.arcgis.com/arcgis/rest/services/World/GeocodeServer/find?f=json&text=M1C%0A%2C+Toronto%2C+Ontario&maxLocations=1\n",
            "Status code 503 from https://geocode.arcgis.com/arcgis/rest/services/World/GeocodeServer/find: ERROR - 503 Server Error: Service Temporarily Unavailable for url: https://geocode.arcgis.com/arcgis/rest/services/World/GeocodeServer/find?f=json&text=M1C%0A%2C+Toronto%2C+Ontario&maxLocations=1\n",
            "Status code 503 from https://geocode.arcgis.com/arcgis/rest/services/World/GeocodeServer/find: ERROR - 503 Server Error: Service Temporarily Unavailable for url: https://geocode.arcgis.com/arcgis/rest/services/World/GeocodeServer/find?f=json&text=M1C%0A%2C+Toronto%2C+Ontario&maxLocations=1\n",
            "Status code 503 from https://geocode.arcgis.com/arcgis/rest/services/World/GeocodeServer/find: ERROR - 503 Server Error: Service Temporarily Unavailable for url: https://geocode.arcgis.com/arcgis/rest/services/World/GeocodeServer/find?f=json&text=M1C%0A%2C+Toronto%2C+Ontario&maxLocations=1\n",
            "Status code 503 from https://geocode.arcgis.com/arcgis/rest/services/World/GeocodeServer/find: ERROR - 503 Server Error: Service Temporarily Unavailable for url: https://geocode.arcgis.com/arcgis/rest/services/World/GeocodeServer/find?f=json&text=M1C%0A%2C+Toronto%2C+Ontario&maxLocations=1\n",
            "Status code 503 from https://geocode.arcgis.com/arcgis/rest/services/World/GeocodeServer/find: ERROR - 503 Server Error: Service Temporarily Unavailable for url: https://geocode.arcgis.com/arcgis/rest/services/World/GeocodeServer/find?f=json&text=M1C%0A%2C+Toronto%2C+Ontario&maxLocations=1\n",
            "Status code 503 from https://geocode.arcgis.com/arcgis/rest/services/World/GeocodeServer/find: ERROR - 503 Server Error: Service Temporarily Unavailable for url: https://geocode.arcgis.com/arcgis/rest/services/World/GeocodeServer/find?f=json&text=M1C%0A%2C+Toronto%2C+Ontario&maxLocations=1\n",
            "Status code 503 from https://geocode.arcgis.com/arcgis/rest/services/World/GeocodeServer/find: ERROR - 503 Server Error: Service Temporarily Unavailable for url: https://geocode.arcgis.com/arcgis/rest/services/World/GeocodeServer/find?f=json&text=M1C%0A%2C+Toronto%2C+Ontario&maxLocations=1\n",
            "Status code 503 from https://geocode.arcgis.com/arcgis/rest/services/World/GeocodeServer/find: ERROR - 503 Server Error: Service Temporarily Unavailable for url: https://geocode.arcgis.com/arcgis/rest/services/World/GeocodeServer/find?f=json&text=M1C%0A%2C+Toronto%2C+Ontario&maxLocations=1\n",
            "Status code 503 from https://geocode.arcgis.com/arcgis/rest/services/World/GeocodeServer/find: ERROR - 503 Server Error: Service Temporarily Unavailable for url: https://geocode.arcgis.com/arcgis/rest/services/World/GeocodeServer/find?f=json&text=M1C%0A%2C+Toronto%2C+Ontario&maxLocations=1\n",
            "Status code 503 from https://geocode.arcgis.com/arcgis/rest/services/World/GeocodeServer/find: ERROR - 503 Server Error: Service Temporarily Unavailable for url: https://geocode.arcgis.com/arcgis/rest/services/World/GeocodeServer/find?f=json&text=M1C%0A%2C+Toronto%2C+Ontario&maxLocations=1\n",
            "Status code 503 from https://geocode.arcgis.com/arcgis/rest/services/World/GeocodeServer/find: ERROR - 503 Server Error: Service Temporarily Unavailable for url: https://geocode.arcgis.com/arcgis/rest/services/World/GeocodeServer/find?f=json&text=M1C%0A%2C+Toronto%2C+Ontario&maxLocations=1\n",
            "Status code 503 from https://geocode.arcgis.com/arcgis/rest/services/World/GeocodeServer/find: ERROR - 503 Server Error: Service Temporarily Unavailable for url: https://geocode.arcgis.com/arcgis/rest/services/World/GeocodeServer/find?f=json&text=M1C%0A%2C+Toronto%2C+Ontario&maxLocations=1\n",
            "Status code 503 from https://geocode.arcgis.com/arcgis/rest/services/World/GeocodeServer/find: ERROR - 503 Server Error: Service Temporarily Unavailable for url: https://geocode.arcgis.com/arcgis/rest/services/World/GeocodeServer/find?f=json&text=M1C%0A%2C+Toronto%2C+Ontario&maxLocations=1\n",
            "Status code 503 from https://geocode.arcgis.com/arcgis/rest/services/World/GeocodeServer/find: ERROR - 503 Server Error: Service Temporarily Unavailable for url: https://geocode.arcgis.com/arcgis/rest/services/World/GeocodeServer/find?f=json&text=M1C%0A%2C+Toronto%2C+Ontario&maxLocations=1\n",
            "Status code 503 from https://geocode.arcgis.com/arcgis/rest/services/World/GeocodeServer/find: ERROR - 503 Server Error: Service Temporarily Unavailable for url: https://geocode.arcgis.com/arcgis/rest/services/World/GeocodeServer/find?f=json&text=M1C%0A%2C+Toronto%2C+Ontario&maxLocations=1\n",
            "Status code 503 from https://geocode.arcgis.com/arcgis/rest/services/World/GeocodeServer/find: ERROR - 503 Server Error: Service Temporarily Unavailable for url: https://geocode.arcgis.com/arcgis/rest/services/World/GeocodeServer/find?f=json&text=M1C%0A%2C+Toronto%2C+Ontario&maxLocations=1\n",
            "Status code Unknown from https://geocode.arcgis.com/arcgis/rest/services/World/GeocodeServer/find: ERROR - HTTPSConnectionPool(host='geocode.arcgis.com', port=443): Read timed out. (read timeout=5.0)\n",
            "Status code 503 from https://geocode.arcgis.com/arcgis/rest/services/World/GeocodeServer/find: ERROR - 503 Server Error: Service Temporarily Unavailable for url: https://geocode.arcgis.com/arcgis/rest/services/World/GeocodeServer/find?f=json&text=M1C%0A%2C+Toronto%2C+Ontario&maxLocations=1\n",
            "Status code Unknown from https://geocode.arcgis.com/arcgis/rest/services/World/GeocodeServer/find: ERROR - HTTPSConnectionPool(host='geocode.arcgis.com', port=443): Read timed out. (read timeout=5.0)\n",
            "Status code 503 from https://geocode.arcgis.com/arcgis/rest/services/World/GeocodeServer/find: ERROR - 503 Server Error: Service Temporarily Unavailable for url: https://geocode.arcgis.com/arcgis/rest/services/World/GeocodeServer/find?f=json&text=M1C%0A%2C+Toronto%2C+Ontario&maxLocations=1\n",
            "Status code 503 from https://geocode.arcgis.com/arcgis/rest/services/World/GeocodeServer/find: ERROR - 503 Server Error: Service Temporarily Unavailable for url: https://geocode.arcgis.com/arcgis/rest/services/World/GeocodeServer/find?f=json&text=M1C%0A%2C+Toronto%2C+Ontario&maxLocations=1\n",
            "Status code 503 from https://geocode.arcgis.com/arcgis/rest/services/World/GeocodeServer/find: ERROR - 503 Server Error: Service Temporarily Unavailable for url: https://geocode.arcgis.com/arcgis/rest/services/World/GeocodeServer/find?f=json&text=M1C%0A%2C+Toronto%2C+Ontario&maxLocations=1\n",
            "Status code 503 from https://geocode.arcgis.com/arcgis/rest/services/World/GeocodeServer/find: ERROR - 503 Server Error: Service Temporarily Unavailable for url: https://geocode.arcgis.com/arcgis/rest/services/World/GeocodeServer/find?f=json&text=M1C%0A%2C+Toronto%2C+Ontario&maxLocations=1\n",
            "Status code 503 from https://geocode.arcgis.com/arcgis/rest/services/World/GeocodeServer/find: ERROR - 503 Server Error: Service Temporarily Unavailable for url: https://geocode.arcgis.com/arcgis/rest/services/World/GeocodeServer/find?f=json&text=M1C%0A%2C+Toronto%2C+Ontario&maxLocations=1\n",
            "Status code 503 from https://geocode.arcgis.com/arcgis/rest/services/World/GeocodeServer/find: ERROR - 503 Server Error: Service Temporarily Unavailable for url: https://geocode.arcgis.com/arcgis/rest/services/World/GeocodeServer/find?f=json&text=M1C%0A%2C+Toronto%2C+Ontario&maxLocations=1\n",
            "Status code Unknown from https://geocode.arcgis.com/arcgis/rest/services/World/GeocodeServer/find: ERROR - HTTPSConnectionPool(host='geocode.arcgis.com', port=443): Read timed out. (read timeout=5.0)\n",
            "Status code 503 from https://geocode.arcgis.com/arcgis/rest/services/World/GeocodeServer/find: ERROR - 503 Server Error: Service Temporarily Unavailable for url: https://geocode.arcgis.com/arcgis/rest/services/World/GeocodeServer/find?f=json&text=M1C%0A%2C+Toronto%2C+Ontario&maxLocations=1\n",
            "Status code 503 from https://geocode.arcgis.com/arcgis/rest/services/World/GeocodeServer/find: ERROR - 503 Server Error: Service Temporarily Unavailable for url: https://geocode.arcgis.com/arcgis/rest/services/World/GeocodeServer/find?f=json&text=M1C%0A%2C+Toronto%2C+Ontario&maxLocations=1\n",
            "Status code 503 from https://geocode.arcgis.com/arcgis/rest/services/World/GeocodeServer/find: ERROR - 503 Server Error: Service Temporarily Unavailable for url: https://geocode.arcgis.com/arcgis/rest/services/World/GeocodeServer/find?f=json&text=M1C%0A%2C+Toronto%2C+Ontario&maxLocations=1\n",
            "Status code 503 from https://geocode.arcgis.com/arcgis/rest/services/World/GeocodeServer/find: ERROR - 503 Server Error: Service Temporarily Unavailable for url: https://geocode.arcgis.com/arcgis/rest/services/World/GeocodeServer/find?f=json&text=M1C%0A%2C+Toronto%2C+Ontario&maxLocations=1\n",
            "Status code 503 from https://geocode.arcgis.com/arcgis/rest/services/World/GeocodeServer/find: ERROR - 503 Server Error: Service Temporarily Unavailable for url: https://geocode.arcgis.com/arcgis/rest/services/World/GeocodeServer/find?f=json&text=M1C%0A%2C+Toronto%2C+Ontario&maxLocations=1\n",
            "Status code 503 from https://geocode.arcgis.com/arcgis/rest/services/World/GeocodeServer/find: ERROR - 503 Server Error: Service Temporarily Unavailable for url: https://geocode.arcgis.com/arcgis/rest/services/World/GeocodeServer/find?f=json&text=M1C%0A%2C+Toronto%2C+Ontario&maxLocations=1\n",
            "Status code 503 from https://geocode.arcgis.com/arcgis/rest/services/World/GeocodeServer/find: ERROR - 503 Server Error: Service Temporarily Unavailable for url: https://geocode.arcgis.com/arcgis/rest/services/World/GeocodeServer/find?f=json&text=M1C%0A%2C+Toronto%2C+Ontario&maxLocations=1\n",
            "Status code 503 from https://geocode.arcgis.com/arcgis/rest/services/World/GeocodeServer/find: ERROR - 503 Server Error: Service Temporarily Unavailable for url: https://geocode.arcgis.com/arcgis/rest/services/World/GeocodeServer/find?f=json&text=M1C%0A%2C+Toronto%2C+Ontario&maxLocations=1\n",
            "Status code 503 from https://geocode.arcgis.com/arcgis/rest/services/World/GeocodeServer/find: ERROR - 503 Server Error: Service Temporarily Unavailable for url: https://geocode.arcgis.com/arcgis/rest/services/World/GeocodeServer/find?f=json&text=M1C%0A%2C+Toronto%2C+Ontario&maxLocations=1\n",
            "Status code 503 from https://geocode.arcgis.com/arcgis/rest/services/World/GeocodeServer/find: ERROR - 503 Server Error: Service Temporarily Unavailable for url: https://geocode.arcgis.com/arcgis/rest/services/World/GeocodeServer/find?f=json&text=M1C%0A%2C+Toronto%2C+Ontario&maxLocations=1\n",
            "Status code 503 from https://geocode.arcgis.com/arcgis/rest/services/World/GeocodeServer/find: ERROR - 503 Server Error: Service Temporarily Unavailable for url: https://geocode.arcgis.com/arcgis/rest/services/World/GeocodeServer/find?f=json&text=M1C%0A%2C+Toronto%2C+Ontario&maxLocations=1\n",
            "Status code 503 from https://geocode.arcgis.com/arcgis/rest/services/World/GeocodeServer/find: ERROR - 503 Server Error: Service Temporarily Unavailable for url: https://geocode.arcgis.com/arcgis/rest/services/World/GeocodeServer/find?f=json&text=M1C%0A%2C+Toronto%2C+Ontario&maxLocations=1\n",
            "Status code 503 from https://geocode.arcgis.com/arcgis/rest/services/World/GeocodeServer/find: ERROR - 503 Server Error: Service Temporarily Unavailable for url: https://geocode.arcgis.com/arcgis/rest/services/World/GeocodeServer/find?f=json&text=M1C%0A%2C+Toronto%2C+Ontario&maxLocations=1\n",
            "Status code 503 from https://geocode.arcgis.com/arcgis/rest/services/World/GeocodeServer/find: ERROR - 503 Server Error: Service Temporarily Unavailable for url: https://geocode.arcgis.com/arcgis/rest/services/World/GeocodeServer/find?f=json&text=M1C%0A%2C+Toronto%2C+Ontario&maxLocations=1\n",
            "Status code 503 from https://geocode.arcgis.com/arcgis/rest/services/World/GeocodeServer/find: ERROR - 503 Server Error: Service Temporarily Unavailable for url: https://geocode.arcgis.com/arcgis/rest/services/World/GeocodeServer/find?f=json&text=M1C%0A%2C+Toronto%2C+Ontario&maxLocations=1\n",
            "Status code 503 from https://geocode.arcgis.com/arcgis/rest/services/World/GeocodeServer/find: ERROR - 503 Server Error: Service Temporarily Unavailable for url: https://geocode.arcgis.com/arcgis/rest/services/World/GeocodeServer/find?f=json&text=M1C%0A%2C+Toronto%2C+Ontario&maxLocations=1\n",
            "Status code 503 from https://geocode.arcgis.com/arcgis/rest/services/World/GeocodeServer/find: ERROR - 503 Server Error: Service Temporarily Unavailable for url: https://geocode.arcgis.com/arcgis/rest/services/World/GeocodeServer/find?f=json&text=M1C%0A%2C+Toronto%2C+Ontario&maxLocations=1\n",
            "Status code 503 from https://geocode.arcgis.com/arcgis/rest/services/World/GeocodeServer/find: ERROR - 503 Server Error: Service Temporarily Unavailable for url: https://geocode.arcgis.com/arcgis/rest/services/World/GeocodeServer/find?f=json&text=M1C%0A%2C+Toronto%2C+Ontario&maxLocations=1\n",
            "Status code 503 from https://geocode.arcgis.com/arcgis/rest/services/World/GeocodeServer/find: ERROR - 503 Server Error: Service Temporarily Unavailable for url: https://geocode.arcgis.com/arcgis/rest/services/World/GeocodeServer/find?f=json&text=M1C%0A%2C+Toronto%2C+Ontario&maxLocations=1\n",
            "Status code 503 from https://geocode.arcgis.com/arcgis/rest/services/World/GeocodeServer/find: ERROR - 503 Server Error: Service Temporarily Unavailable for url: https://geocode.arcgis.com/arcgis/rest/services/World/GeocodeServer/find?f=json&text=M1C%0A%2C+Toronto%2C+Ontario&maxLocations=1\n",
            "Status code 503 from https://geocode.arcgis.com/arcgis/rest/services/World/GeocodeServer/find: ERROR - 503 Server Error: Service Temporarily Unavailable for url: https://geocode.arcgis.com/arcgis/rest/services/World/GeocodeServer/find?f=json&text=M1C%0A%2C+Toronto%2C+Ontario&maxLocations=1\n"
          ],
          "name": "stderr"
        }
      ]
    },
    {
      "cell_type": "code",
      "metadata": {
        "id": "mGX40TQL1SqE",
        "colab_type": "code",
        "colab": {}
      },
      "source": [
        "map_Scarborough = folium.Map(location=[latitude_x, longitude_y], zoom_start=10)\n",
        "\n",
        "for lat, lng, nei in zip(df_2['Latitude'], df_2['Longitude'], df_2['Neighborhood']):\n",
        "    \n",
        "    label = '{}'.format(nei)\n",
        "    label = folium.Popup(label, parse_html=True)\n",
        "    folium.CircleMarker(\n",
        "        [lat, lng],\n",
        "        radius=5,\n",
        "        popup=label,\n",
        "        color='blue',\n",
        "        fill=True,\n",
        "        fill_color='#3186cc',\n",
        "        fill_opacity=0.7,\n",
        "        parse_html=False).add_to(map_Scarborough)  \n",
        "    \n",
        "map_Scarborough"
      ],
      "execution_count": null,
      "outputs": []
    },
    {
      "cell_type": "code",
      "metadata": {
        "id": "N00zVsSF1Xjk",
        "colab_type": "code",
        "colab": {}
      },
      "source": [
        "address = 'Scarborough,Toronto'\n",
        "\n",
        "geolocator = Nominatim()\n",
        "location = geolocator.geocode(address)\n",
        "latitude_n1 = location.latitude\n",
        "longitude_n1 = location.longitude\n",
        "print('The Geograpical Co-ordinate of Neighborhood_1 are {}, {}.'.format(latitude_x, longitude_y))"
      ],
      "execution_count": null,
      "outputs": []
    },
    {
      "cell_type": "code",
      "metadata": {
        "id": "3k0jxmlL1Zfs",
        "colab_type": "code",
        "colab": {}
      },
      "source": [
        "# @hiddel_cell\n",
        "CLIENT_ID = 'S5R0YPVJTPOF20TU2TOLVEOX4CO4CCBP3RXHRANTZBYIYR02' # my Foursquare ID\n",
        "CLIENT_SECRET = 'XZ5KS5OHZCREJV2ZH3G0FZX1IFAFON3NW4OUFDZOHYGE4NLH' # my Foursquare Secret\n",
        "VERSION = '20180604'\n",
        "LIMIT = 30\n",
        "print('Your credentails:')\n",
        "print('CLIENT_ID: '+CLIENT_ID)\n",
        "print('CLIENT_SECRET: '+CLIENT_SECRET)"
      ],
      "execution_count": null,
      "outputs": []
    },
    {
      "cell_type": "code",
      "metadata": {
        "id": "idNqc6EO16Je",
        "colab_type": "code",
        "colab": {}
      },
      "source": [
        "radius = 700 \n",
        "LIMIT = 100\n",
        "url = 'https://api.foursquare.com/v2/venues/explore?&client_id={}&client_secret={}&v={}&ll={},{}&radius={}&limit={}'.format(\n",
        "    CLIENT_ID, \n",
        "    CLIENT_SECRET, \n",
        "    VERSION, \n",
        "    latitude_n1, \n",
        "   longitude_n1, \n",
        "    radius, \n",
        "   LIMIT)\n",
        "results = requests.get(url).json()"
      ],
      "execution_count": null,
      "outputs": []
    },
    {
      "cell_type": "code",
      "metadata": {
        "id": "YBr7-V-Y179f",
        "colab_type": "code",
        "colab": {}
      },
      "source": [
        "\n",
        "venues=results['response']['groups'][0]['items']\n",
        "nearby_venues = json_normalize(venues)\n",
        "nearby_venues.columns"
      ],
      "execution_count": null,
      "outputs": []
    },
    {
      "cell_type": "code",
      "metadata": {
        "id": "NxSxmcdw19f3",
        "colab_type": "code",
        "colab": {}
      },
      "source": [
        "def get_category_type(row):\n",
        "    try:\n",
        "        categories_list = row['categories']\n",
        "    except:\n",
        "        categories_list = row['venue.categories']\n",
        "        \n",
        "    if len(categories_list) == 0:\n",
        "        return None\n",
        "    else:\n",
        "        return categories_list[0]['name']"
      ],
      "execution_count": null,
      "outputs": []
    },
    {
      "cell_type": "code",
      "metadata": {
        "id": "G0ed-la11_AA",
        "colab_type": "code",
        "colab": {}
      },
      "source": [
        "\n",
        "filtered_columns = ['venue.name', 'venue.categories', 'venue.location.lat', 'venue.location.lng']\n",
        "nearby_venues =nearby_venues.loc[:, filtered_columns]\n",
        "nearby_venues.head()"
      ],
      "execution_count": null,
      "outputs": []
    },
    {
      "cell_type": "code",
      "metadata": {
        "id": "iEr6mS402ASF",
        "colab_type": "code",
        "colab": {}
      },
      "source": [
        "nearby_venues['venue.categories'] = nearby_venues.apply(get_category_type, axis=1)\n",
        "\n",
        "# clean columns\n",
        "nearby_venues.columns = [col.split(\".\")[-1] for col in nearby_venues.columns]\n",
        "\n",
        "nearby_venues.head(5)"
      ],
      "execution_count": null,
      "outputs": []
    },
    {
      "cell_type": "code",
      "metadata": {
        "id": "IONJeFnm2DX-",
        "colab_type": "code",
        "colab": {}
      },
      "source": [
        "\n",
        "# Top 10 Categories\n",
        "a=pd.Series(nearby_venues.categories)\n",
        "a.value_counts()[:10]"
      ],
      "execution_count": null,
      "outputs": []
    },
    {
      "cell_type": "code",
      "metadata": {
        "id": "XhIJxPzo2FMD",
        "colab_type": "code",
        "colab": {}
      },
      "source": [
        "def getNearbyVenues(names, latitudes, longitudes, radius=700):\n",
        "    \n",
        "    venues_list=[]\n",
        "    for name, lat, lng in zip(names, latitudes, longitudes):\n",
        "        print(name)\n",
        "            \n",
        "        url = 'https://api.foursquare.com/v2/venues/explore?&client_id={}&client_secret={}&v={}&ll={},{}&radius={}&limit={}'.format(\n",
        "            CLIENT_ID, \n",
        "            CLIENT_SECRET, \n",
        "            VERSION, \n",
        "            lat, \n",
        "            lng, \n",
        "            radius, \n",
        "            LIMIT)\n",
        "            \n",
        "        # making GET request\n",
        "        venue_results = requests.get(url).json()[\"response\"]['groups'][0]['items']\n",
        "        \n",
        "        # return only relevant information for each nearby venue\n",
        "        venues_list.append([(\n",
        "            name, \n",
        "            lat, \n",
        "            lng, \n",
        "            v['venue']['name'], \n",
        "            v['venue']['location']['lat'], \n",
        "            v['venue']['location']['lng'],  \n",
        "            v['venue']['categories'][0]['name']) for v in venue_results])\n",
        "\n",
        "    nearby_venues = pd.DataFrame([item for venue_list in venues_list for item in venue_list])\n",
        "    nearby_venues.columns = ['Neighborhood', \n",
        "                  'Neighborhood Latitude', \n",
        "                  'Neighborhood Longitude', \n",
        "                  'Venue', \n",
        "                  'Venue Latitude', \n",
        "                  'Venue Longitude', \n",
        "                  'Venue Category']\n",
        "    \n",
        "    return(nearby_venues)"
      ],
      "execution_count": null,
      "outputs": []
    },
    {
      "cell_type": "code",
      "metadata": {
        "id": "sbUx6J6A2ICe",
        "colab_type": "code",
        "colab": {}
      },
      "source": [
        "\n",
        "# Nearby Venues\n",
        "Scarborough_venues = getNearbyVenues(names=df_2['Neighborhood'],\n",
        "                                   latitudes=df_2['Latitude'],\n",
        "                                   longitudes=df_2['Longitude']\n",
        "                                  )"
      ],
      "execution_count": null,
      "outputs": []
    },
    {
      "cell_type": "code",
      "metadata": {
        "id": "QZ0c-Ogn2Jtk",
        "colab_type": "code",
        "colab": {}
      },
      "source": [
        "print('There are {} Uniques Categories.'.format(len(Scarborough_venues['Venue Category'].unique())))\n",
        "Scarborough_venues.groupby('Neighborhood').count().head()"
      ],
      "execution_count": null,
      "outputs": []
    },
    {
      "cell_type": "code",
      "metadata": {
        "id": "QHKlXZd-2MJl",
        "colab_type": "code",
        "colab": {}
      },
      "source": [
        "# one hot encoding\n",
        "Scarborough_onehot = pd.get_dummies(Scarborough_venues[['Venue Category']], prefix=\"\", prefix_sep=\"\")\n",
        "\n",
        "# add neighborhood column back to dataframe\n",
        "Scarborough_onehot['Neighborhood'] = Scarborough_venues['Neighborhood'] \n",
        "\n",
        "# move neighborhood column to the first column\n",
        "fixed_columns = [Scarborough_onehot.columns[-1]] + list(Scarborough_onehot.columns[:-1])\n",
        "Scarborough_onehot = Scarborough_onehot[fixed_columns]\n",
        "Scarborough_grouped = Scarborough_onehot.groupby('Neighborhood').mean().reset_index()\n",
        "Scarborough_onehot.head(5)"
      ],
      "execution_count": null,
      "outputs": []
    },
    {
      "cell_type": "code",
      "metadata": {
        "id": "1c_M7GWc2N73",
        "colab_type": "code",
        "colab": {}
      },
      "source": [
        "\n",
        "num_top_venues = 5\n",
        "for hood in Scarborough_grouped['Neighborhood']:\n",
        "    print(\"---- \"+hood+\" ----\")\n",
        "    temp =Scarborough_grouped[Scarborough_grouped['Neighborhood'] == hood].T.reset_index()\n",
        "    temp.columns = ['venue','freq']\n",
        "    temp = temp.iloc[1:]\n",
        "    temp['freq'] = temp['freq'].astype(float)\n",
        "    temp = temp.round({'freq': 2})\n",
        "    print(temp.sort_values('freq', ascending=False).reset_index(drop=True).head(num_top_venues))\n",
        "    print('\\n')"
      ],
      "execution_count": null,
      "outputs": []
    },
    {
      "cell_type": "code",
      "metadata": {
        "id": "cQzOwuYq2QNI",
        "colab_type": "code",
        "colab": {}
      },
      "source": [
        "\n",
        "def return_most_common_venues(row, num_top_venues):\n",
        "    row_categories = row.iloc[1:]\n",
        "    row_categories_sorted = row_categories.sort_values(ascending=False)\n",
        "    \n",
        "    return row_categories_sorted.index.values[0:num_top_venues]"
      ],
      "execution_count": null,
      "outputs": []
    },
    {
      "cell_type": "code",
      "metadata": {
        "id": "sotLU2r72TF0",
        "colab_type": "code",
        "colab": {}
      },
      "source": [
        "import numpy as np\n",
        "num_top_venues = 10\n",
        "\n",
        "indicators = ['st', 'nd', 'rd']\n",
        "\n",
        "columns = ['Neighborhood']\n",
        "for ind in np.arange(num_top_venues):\n",
        "    try:\n",
        "        columns.append('{}{} Most Common Venue'.format(ind+1, indicators[ind]))\n",
        "    except:\n",
        "        columns.append('{}th Most Common Venue'.format(ind+1))\n",
        "\n",
        "neighborhoods_venues_sorted = pd.DataFrame(columns=columns)\n",
        "neighborhoods_venues_sorted['Neighborhood'] = Scarborough_grouped['Neighborhood']\n",
        "\n",
        "for ind in np.arange(Scarborough_grouped.shape[0]):\n",
        "    neighborhoods_venues_sorted.iloc[ind, 1:] = return_most_common_venues(Scarborough_grouped.iloc[ind, :], num_top_venues)\n",
        "\n",
        "neighborhoods_venues_sorted.head()"
      ],
      "execution_count": null,
      "outputs": []
    },
    {
      "cell_type": "code",
      "metadata": {
        "id": "n38IeaF52U1M",
        "colab_type": "code",
        "colab": {}
      },
      "source": [
        "# Using K-Means to cluster neighborhood into 3 clusters\n",
        "Scarborough_grouped_clustering = Scarborough_grouped.drop('Neighborhood', 1)\n",
        "kmeans = KMeans(n_clusters=3, random_state=0).fit(Scarborough_grouped_clustering)\n",
        "kmeans.labels_"
      ],
      "execution_count": null,
      "outputs": []
    },
    {
      "cell_type": "code",
      "metadata": {
        "id": "YqPKOwyN2XpY",
        "colab_type": "code",
        "colab": {}
      },
      "source": [
        "neighborhoods_venues_sorted.insert(0, 'Cluster Labels', kmeans.labels_)\n",
        "\n",
        "Scarborough_merged =df_2.iloc[:16,:]\n",
        "\n",
        "# merge toronto_grouped with toronto_data to add latitude/longitude for each neighborhood\n",
        "Scarborough_merged = Scarborough_merged.join(neighborhoods_venues_sorted.set_index('Neighborhood'), on='Neighborhood')\n",
        "\n",
        "Scarborough_merged.head()# check the last columns!"
      ],
      "execution_count": null,
      "outputs": []
    },
    {
      "cell_type": "code",
      "metadata": {
        "id": "CjCfbHFR2aab",
        "colab_type": "code",
        "colab": {}
      },
      "source": [
        "kclusters = 10\n",
        "\n",
        "# create map\n",
        "map_clusters = folium.Map(location=[latitude_x, longitude_y], zoom_start=11)\n",
        "\n",
        "# set color scheme for the clusters\n",
        "x = np.arange(kclusters)\n",
        "colors_array = cm.rainbow(np.linspace(0, 1, kclusters))\n",
        "rainbow = [colors.rgb2hex(i) for i in colors_array]\n",
        "print(rainbow)\n",
        "# add markers to the map\n",
        "\n",
        "markers_colors = []\n",
        "for lat, lon, nei , cluster in zip(Scarborough_merged['Latitude'], \n",
        "                                   Scarborough_merged['Longitude'], \n",
        "                                   Scarborough_merged['Neighborhood'], \n",
        "                                   Scarborough_merged['Cluster Labels']):\n",
        "    label = folium.Popup(str(nei) + ' Cluster ' + str(cluster), parse_html=True)\n",
        "    folium.CircleMarker(\n",
        "        [lat, lon],\n",
        "        radius=5,\n",
        "        popup=label,\n",
        "        color=rainbow[cluster-1],\n",
        "        fill=True,\n",
        "        fill_color=rainbow[cluster-1],\n",
        "        fill_opacity=0.7).add_to(map_clusters)\n",
        "       \n",
        "map_clusters"
      ],
      "execution_count": null,
      "outputs": []
    },
    {
      "cell_type": "code",
      "metadata": {
        "id": "8vvNh32p2cg5",
        "colab_type": "code",
        "colab": {}
      },
      "source": [
        "df1=Scarborough_merged.loc[Scarborough_merged['Cluster Labels'] == 0,Scarborough_merged.columns[[2] + list(range(5, Scarborough_merged.shape[1]))]]\n",
        "df2=Scarborough_merged.loc[Scarborough_merged['Cluster Labels'] == 1,Scarborough_merged.columns[[2] + list(range(5, Scarborough_merged.shape[1]))]]\n",
        "df3=Scarborough_merged.loc[Scarborough_merged['Cluster Labels'] == 2,Scarborough_merged.columns[[2] + list(range(5, Scarborough_merged.shape[1]))]]"
      ],
      "execution_count": null,
      "outputs": []
    },
    {
      "cell_type": "code",
      "metadata": {
        "id": "tHLbdjpM2eV7",
        "colab_type": "code",
        "colab": {}
      },
      "source": [
        "\n",
        "Scarborough_Avg_HousingPrice=pd.DataFrame({\"Neighborhood\":df_2[\"Neighborhood\"],\n",
        "                                      \"Average_Housing_Price\":[335000.0,286600.0,175000.0,225900.0,219400.0,\n",
        "                                                               573900.0,225000.0,370500.0,370500.0,433500.0,279200.0,\n",
        "                                                               279200.0,225000.0,370500.,255400.0,433500.0,433500.0,\n",
        "                                                               435000.0,289500.0,265000.0,285900.0,239400.0,\n",
        "                                                               589900.0,295000.0,380500.0,378500.0,438500.0,229200.0,\n",
        "                                                               229200.0,365000.0,388500.,285400.0,493500.0,477500.0,378000.0,316600.0,195000.0,225900.0,219400.0,\n",
        "                                                               573900.0,367000.0,370500.0,370500.0,363500.0,279200.0,\n",
        "                                                               279200.0,271000.0,370500.,255400.0,383500.0,433500.0,335000.0,286600.0,185000.0,225900.0,219400.0,\n",
        "                                                               573900.0,329000.0,370500.0,370500.0,533500.0,279200.0,\n",
        "                                                               279200.0,375000.0,370500.,255400.0,493500.0,433500.0,335000.0,286600.0,165000.0,225900.0,219400.0,\n",
        "                                                               573900.0,425000.0,370500.0,370500.0,433500.0,279200.0,\n",
        "                                                               279200.0,195000.0,370500.,255400.0,403500.0,433500.0,335000.0,286600.0,187000.0,225900.0,219400.0,\n",
        "                                                               573900.0,325000.0,370500.0,370500.0,333500.0,279200.0,\n",
        "                                                               279200.0,289000.0,370500.,255400.0,413500.0,433500.0,254800.0\n",
        "                                                              \n",
        "                                                              \n",
        "                                                              ]})"
      ],
      "execution_count": null,
      "outputs": []
    },
    {
      "cell_type": "code",
      "metadata": {
        "id": "6UZNThjH2gKi",
        "colab_type": "code",
        "colab": {}
      },
      "source": [
        "Scarborough_Avg_HousingPrice.set_index('Neighborhood',inplace=True,drop=True)\n",
        "\n",
        "Scarborough_Avg_HousingPrice.plot(kind='bar',figsize=(24,18),alpha=0.75)"
      ],
      "execution_count": null,
      "outputs": []
    },
    {
      "cell_type": "code",
      "metadata": {
        "id": "1KNWgppv2j3J",
        "colab_type": "code",
        "colab": {}
      },
      "source": [
        "\n",
        "clusters=pd.DataFrame({\"Cluster1\":df1[\"Neighborhood\"],\n",
        "                      \"Cluster2\":df2[\"Neighborhood\"],\n",
        "                      \"Cluster4\":df3[\"Neighborhood\"]})\n",
        "clusters = clusters.replace(np.nan, '', regex=True)"
      ],
      "execution_count": null,
      "outputs": []
    },
    {
      "cell_type": "code",
      "metadata": {
        "id": "WTJKR5Y-2lyQ",
        "colab_type": "code",
        "colab": {}
      },
      "source": [
        "\n",
        "new_Scarborough=Scarborough_merged.set_index(\"Neighborhood\",drop=True)\n",
        "#Source:https://www.greatschools.org\n",
        "Scarborough_school_ratings=pd.DataFrame({\"Neighborhood\":df[\"Neighborhood\"],\n",
        "                                      \"Top School Rating\":[7,9,5,8,10,10,7,10,1,2,1,2,7,2,3,2,6,\n",
        "                                                           5,4,8,9,9,6,6,4,5,4,6,8,10,8,9,6,2,\n",
        "                                                           10,2,5,8,9,6,6,10,8,9,1,2,3,4,5,6,9,\n",
        "                                                           8,5,9,6,9,6,4,8,10,2,5,6,3,9,8,7,\n",
        "                                                           7,8,5,8,9,1,5,4,7,2,3,6,6,9,4,8,7,\n",
        "                                                           4,8,9,2,6,4,7,5,10,4,6,8,9,7,5,6,5,8,7\n",
        "                                                           ]})"
      ],
      "execution_count": null,
      "outputs": []
    },
    {
      "cell_type": "code",
      "metadata": {
        "id": "iyOluR452m4Y",
        "colab_type": "code",
        "colab": {}
      },
      "source": [
        "\n",
        "Scarborough_school_ratings.set_index('Neighborhood',inplace=True,drop=True)"
      ],
      "execution_count": null,
      "outputs": []
    },
    {
      "cell_type": "code",
      "metadata": {
        "id": "rh3G5X2U2ovA",
        "colab_type": "code",
        "colab": {}
      },
      "source": [
        "Scarborough_school_ratings.plot(kind='bar',figsize=(16,10),color='green',alpha=0.75);"
      ],
      "execution_count": null,
      "outputs": []
    },
    {
      "cell_type": "code",
      "metadata": {
        "id": "TewWHbLC2q-1",
        "colab_type": "code",
        "colab": {}
      },
      "source": [
        ""
      ],
      "execution_count": null,
      "outputs": []
    }
  ]
}